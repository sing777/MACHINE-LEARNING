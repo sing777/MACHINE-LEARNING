{
 "cells": [
  {
   "cell_type": "code",
   "execution_count": 2,
   "id": "6a9a60a2",
   "metadata": {},
   "outputs": [],
   "source": [
    "import pandas as pd\n",
    "import numpy as np\n",
    "import matplotlib.pyplot as plt\n",
    "import seaborn as sns\n",
    "from sklearn.linear_model import LinearRegression\n",
    "from sklearn.model_selection import train_test_split"
   ]
  },
  {
   "cell_type": "markdown",
   "id": "f8b4df97",
   "metadata": {},
   "source": [
    "# 1) problem statement"
   ]
  },
  {
   "cell_type": "code",
   "execution_count": null,
   "id": "05fd0e4f",
   "metadata": {},
   "outputs": [],
   "source": [
    "predict population of by using year"
   ]
  },
  {
   "cell_type": "markdown",
   "id": "02f1688c",
   "metadata": {},
   "source": [
    "# 2) data gathering"
   ]
  },
  {
   "cell_type": "code",
   "execution_count": 3,
   "id": "b3d39035",
   "metadata": {
    "scrolled": false
   },
   "outputs": [
    {
     "data": {
      "text/html": [
       "<div>\n",
       "<style scoped>\n",
       "    .dataframe tbody tr th:only-of-type {\n",
       "        vertical-align: middle;\n",
       "    }\n",
       "\n",
       "    .dataframe tbody tr th {\n",
       "        vertical-align: top;\n",
       "    }\n",
       "\n",
       "    .dataframe thead th {\n",
       "        text-align: right;\n",
       "    }\n",
       "</style>\n",
       "<table border=\"1\" class=\"dataframe\">\n",
       "  <thead>\n",
       "    <tr style=\"text-align: right;\">\n",
       "      <th></th>\n",
       "      <th>Year</th>\n",
       "      <th>Yearly % \\nChange</th>\n",
       "      <th>Yearly\\nChange</th>\n",
       "      <th>Migrants (net)</th>\n",
       "      <th>Median Age</th>\n",
       "      <th>Fertility Rate</th>\n",
       "      <th>Density (P/Km²)</th>\n",
       "      <th>Urban\\nPop %</th>\n",
       "      <th>Urban Population</th>\n",
       "      <th>Country's Share of\\nWorld Pop</th>\n",
       "      <th>World Population</th>\n",
       "      <th>India\\nGlobal Rank</th>\n",
       "      <th>Population</th>\n",
       "    </tr>\n",
       "  </thead>\n",
       "  <tbody>\n",
       "    <tr>\n",
       "      <th>0</th>\n",
       "      <td>2050</td>\n",
       "      <td>0.23</td>\n",
       "      <td>3711367</td>\n",
       "      <td>NaN</td>\n",
       "      <td>38.1</td>\n",
       "      <td>2.24</td>\n",
       "      <td>551</td>\n",
       "      <td>53.5</td>\n",
       "      <td>876613025</td>\n",
       "      <td>16.84</td>\n",
       "      <td>9735033990</td>\n",
       "      <td>1</td>\n",
       "      <td>1639176033</td>\n",
       "    </tr>\n",
       "    <tr>\n",
       "      <th>1</th>\n",
       "      <td>2045</td>\n",
       "      <td>0.35</td>\n",
       "      <td>5585537</td>\n",
       "      <td>-414772.0</td>\n",
       "      <td>36.6</td>\n",
       "      <td>2.24</td>\n",
       "      <td>545</td>\n",
       "      <td>50.1</td>\n",
       "      <td>811749463</td>\n",
       "      <td>17.09</td>\n",
       "      <td>9481803274</td>\n",
       "      <td>1</td>\n",
       "      <td>1620619200</td>\n",
       "    </tr>\n",
       "    <tr>\n",
       "      <th>2</th>\n",
       "      <td>2040</td>\n",
       "      <td>0.50</td>\n",
       "      <td>7793541</td>\n",
       "      <td>-415736.0</td>\n",
       "      <td>35.0</td>\n",
       "      <td>2.24</td>\n",
       "      <td>536</td>\n",
       "      <td>46.7</td>\n",
       "      <td>744380367</td>\n",
       "      <td>17.31</td>\n",
       "      <td>9198847240</td>\n",
       "      <td>1</td>\n",
       "      <td>1592691513</td>\n",
       "    </tr>\n",
       "    <tr>\n",
       "      <th>3</th>\n",
       "      <td>2035</td>\n",
       "      <td>0.66</td>\n",
       "      <td>10016298</td>\n",
       "      <td>-415732.0</td>\n",
       "      <td>33.3</td>\n",
       "      <td>2.24</td>\n",
       "      <td>523</td>\n",
       "      <td>43.5</td>\n",
       "      <td>675456367</td>\n",
       "      <td>17.48</td>\n",
       "      <td>8887524213</td>\n",
       "      <td>1</td>\n",
       "      <td>1553723810</td>\n",
       "    </tr>\n",
       "    <tr>\n",
       "      <th>4</th>\n",
       "      <td>2030</td>\n",
       "      <td>0.80</td>\n",
       "      <td>11726140</td>\n",
       "      <td>-440124.0</td>\n",
       "      <td>31.7</td>\n",
       "      <td>2.24</td>\n",
       "      <td>506</td>\n",
       "      <td>40.4</td>\n",
       "      <td>607341981</td>\n",
       "      <td>17.59</td>\n",
       "      <td>8548487400</td>\n",
       "      <td>1</td>\n",
       "      <td>1503642322</td>\n",
       "    </tr>\n",
       "    <tr>\n",
       "      <th>5</th>\n",
       "      <td>2025</td>\n",
       "      <td>0.92</td>\n",
       "      <td>13001447</td>\n",
       "      <td>-464081.0</td>\n",
       "      <td>30.0</td>\n",
       "      <td>2.24</td>\n",
       "      <td>486</td>\n",
       "      <td>37.6</td>\n",
       "      <td>542742539</td>\n",
       "      <td>17.66</td>\n",
       "      <td>8184437460</td>\n",
       "      <td>2</td>\n",
       "      <td>1445011620</td>\n",
       "    </tr>\n",
       "    <tr>\n",
       "      <th>6</th>\n",
       "      <td>2020</td>\n",
       "      <td>1.04</td>\n",
       "      <td>13970396</td>\n",
       "      <td>-532687.0</td>\n",
       "      <td>28.4</td>\n",
       "      <td>2.24</td>\n",
       "      <td>464</td>\n",
       "      <td>35.0</td>\n",
       "      <td>483098640</td>\n",
       "      <td>17.70</td>\n",
       "      <td>7794798739</td>\n",
       "      <td>2</td>\n",
       "      <td>1380004385</td>\n",
       "    </tr>\n",
       "    <tr>\n",
       "      <th>7</th>\n",
       "      <td>2019</td>\n",
       "      <td>1.02</td>\n",
       "      <td>13775474</td>\n",
       "      <td>-532687.0</td>\n",
       "      <td>27.1</td>\n",
       "      <td>2.36</td>\n",
       "      <td>460</td>\n",
       "      <td>34.5</td>\n",
       "      <td>471828295</td>\n",
       "      <td>17.71</td>\n",
       "      <td>7713468100</td>\n",
       "      <td>2</td>\n",
       "      <td>1366417754</td>\n",
       "    </tr>\n",
       "    <tr>\n",
       "      <th>8</th>\n",
       "      <td>2018</td>\n",
       "      <td>1.04</td>\n",
       "      <td>13965495</td>\n",
       "      <td>-532687.0</td>\n",
       "      <td>27.1</td>\n",
       "      <td>2.36</td>\n",
       "      <td>455</td>\n",
       "      <td>34.1</td>\n",
       "      <td>460779764</td>\n",
       "      <td>17.73</td>\n",
       "      <td>7631091040</td>\n",
       "      <td>2</td>\n",
       "      <td>1352642280</td>\n",
       "    </tr>\n",
       "    <tr>\n",
       "      <th>9</th>\n",
       "      <td>2017</td>\n",
       "      <td>1.07</td>\n",
       "      <td>14159536</td>\n",
       "      <td>-532687.0</td>\n",
       "      <td>27.1</td>\n",
       "      <td>2.36</td>\n",
       "      <td>450</td>\n",
       "      <td>33.6</td>\n",
       "      <td>449963381</td>\n",
       "      <td>17.74</td>\n",
       "      <td>7547858925</td>\n",
       "      <td>2</td>\n",
       "      <td>1338676785</td>\n",
       "    </tr>\n",
       "    <tr>\n",
       "      <th>10</th>\n",
       "      <td>2016</td>\n",
       "      <td>1.10</td>\n",
       "      <td>14364846</td>\n",
       "      <td>-532687.0</td>\n",
       "      <td>27.1</td>\n",
       "      <td>2.36</td>\n",
       "      <td>445</td>\n",
       "      <td>33.2</td>\n",
       "      <td>439391699</td>\n",
       "      <td>17.75</td>\n",
       "      <td>7464022049</td>\n",
       "      <td>2</td>\n",
       "      <td>1324517249</td>\n",
       "    </tr>\n",
       "    <tr>\n",
       "      <th>11</th>\n",
       "      <td>2015</td>\n",
       "      <td>1.20</td>\n",
       "      <td>15174247</td>\n",
       "      <td>-470015.0</td>\n",
       "      <td>26.8</td>\n",
       "      <td>2.40</td>\n",
       "      <td>441</td>\n",
       "      <td>32.7</td>\n",
       "      <td>429069459</td>\n",
       "      <td>17.75</td>\n",
       "      <td>7379797139</td>\n",
       "      <td>2</td>\n",
       "      <td>1310152403</td>\n",
       "    </tr>\n",
       "    <tr>\n",
       "      <th>12</th>\n",
       "      <td>2010</td>\n",
       "      <td>1.47</td>\n",
       "      <td>17334249</td>\n",
       "      <td>-531169.0</td>\n",
       "      <td>25.1</td>\n",
       "      <td>2.80</td>\n",
       "      <td>415</td>\n",
       "      <td>30.8</td>\n",
       "      <td>380744554</td>\n",
       "      <td>17.74</td>\n",
       "      <td>6956823603</td>\n",
       "      <td>2</td>\n",
       "      <td>1234281170</td>\n",
       "    </tr>\n",
       "    <tr>\n",
       "      <th>13</th>\n",
       "      <td>2005</td>\n",
       "      <td>1.67</td>\n",
       "      <td>18206876</td>\n",
       "      <td>-377797.0</td>\n",
       "      <td>23.8</td>\n",
       "      <td>3.14</td>\n",
       "      <td>386</td>\n",
       "      <td>29.1</td>\n",
       "      <td>334479406</td>\n",
       "      <td>17.54</td>\n",
       "      <td>6541907027</td>\n",
       "      <td>2</td>\n",
       "      <td>1147609927</td>\n",
       "    </tr>\n",
       "    <tr>\n",
       "      <th>14</th>\n",
       "      <td>2000</td>\n",
       "      <td>1.85</td>\n",
       "      <td>18530592</td>\n",
       "      <td>-136514.0</td>\n",
       "      <td>22.7</td>\n",
       "      <td>3.48</td>\n",
       "      <td>355</td>\n",
       "      <td>27.6</td>\n",
       "      <td>291350282</td>\n",
       "      <td>17.20</td>\n",
       "      <td>6143493823</td>\n",
       "      <td>2</td>\n",
       "      <td>1056575549</td>\n",
       "    </tr>\n",
       "    <tr>\n",
       "      <th>15</th>\n",
       "      <td>1995</td>\n",
       "      <td>1.99</td>\n",
       "      <td>18128958</td>\n",
       "      <td>-110590.0</td>\n",
       "      <td>21.8</td>\n",
       "      <td>3.83</td>\n",
       "      <td>324</td>\n",
       "      <td>26.5</td>\n",
       "      <td>255558824</td>\n",
       "      <td>16.78</td>\n",
       "      <td>5744212979</td>\n",
       "      <td>2</td>\n",
       "      <td>963922588</td>\n",
       "    </tr>\n",
       "    <tr>\n",
       "      <th>16</th>\n",
       "      <td>1990</td>\n",
       "      <td>2.17</td>\n",
       "      <td>17783558</td>\n",
       "      <td>9030.0</td>\n",
       "      <td>21.1</td>\n",
       "      <td>4.27</td>\n",
       "      <td>294</td>\n",
       "      <td>25.5</td>\n",
       "      <td>222296728</td>\n",
       "      <td>16.39</td>\n",
       "      <td>5327231061</td>\n",
       "      <td>2</td>\n",
       "      <td>873277798</td>\n",
       "    </tr>\n",
       "    <tr>\n",
       "      <th>17</th>\n",
       "      <td>1985</td>\n",
       "      <td>2.33</td>\n",
       "      <td>17081433</td>\n",
       "      <td>115942.0</td>\n",
       "      <td>20.6</td>\n",
       "      <td>4.68</td>\n",
       "      <td>264</td>\n",
       "      <td>24.3</td>\n",
       "      <td>190321782</td>\n",
       "      <td>16.10</td>\n",
       "      <td>4870921740</td>\n",
       "      <td>2</td>\n",
       "      <td>784360008</td>\n",
       "    </tr>\n",
       "    <tr>\n",
       "      <th>18</th>\n",
       "      <td>1980</td>\n",
       "      <td>2.32</td>\n",
       "      <td>15169989</td>\n",
       "      <td>222247.0</td>\n",
       "      <td>20.2</td>\n",
       "      <td>4.97</td>\n",
       "      <td>235</td>\n",
       "      <td>23.0</td>\n",
       "      <td>160941941</td>\n",
       "      <td>15.68</td>\n",
       "      <td>4458003514</td>\n",
       "      <td>2</td>\n",
       "      <td>698952844</td>\n",
       "    </tr>\n",
       "    <tr>\n",
       "      <th>19</th>\n",
       "      <td>1975</td>\n",
       "      <td>2.33</td>\n",
       "      <td>13582621</td>\n",
       "      <td>421208.0</td>\n",
       "      <td>19.7</td>\n",
       "      <td>5.41</td>\n",
       "      <td>210</td>\n",
       "      <td>21.3</td>\n",
       "      <td>132533810</td>\n",
       "      <td>15.27</td>\n",
       "      <td>4079480606</td>\n",
       "      <td>2</td>\n",
       "      <td>623102897</td>\n",
       "    </tr>\n",
       "    <tr>\n",
       "      <th>20</th>\n",
       "      <td>1970</td>\n",
       "      <td>2.15</td>\n",
       "      <td>11213294</td>\n",
       "      <td>-68569.0</td>\n",
       "      <td>19.3</td>\n",
       "      <td>5.72</td>\n",
       "      <td>187</td>\n",
       "      <td>19.7</td>\n",
       "      <td>109388950</td>\n",
       "      <td>15.00</td>\n",
       "      <td>3700437046</td>\n",
       "      <td>2</td>\n",
       "      <td>555189792</td>\n",
       "    </tr>\n",
       "    <tr>\n",
       "      <th>21</th>\n",
       "      <td>1965</td>\n",
       "      <td>2.07</td>\n",
       "      <td>9715129</td>\n",
       "      <td>-17078.0</td>\n",
       "      <td>19.6</td>\n",
       "      <td>5.89</td>\n",
       "      <td>168</td>\n",
       "      <td>18.7</td>\n",
       "      <td>93493844</td>\n",
       "      <td>14.95</td>\n",
       "      <td>3339583597</td>\n",
       "      <td>2</td>\n",
       "      <td>499123324</td>\n",
       "    </tr>\n",
       "    <tr>\n",
       "      <th>22</th>\n",
       "      <td>1960</td>\n",
       "      <td>1.91</td>\n",
       "      <td>8133417</td>\n",
       "      <td>-30805.0</td>\n",
       "      <td>20.2</td>\n",
       "      <td>5.90</td>\n",
       "      <td>152</td>\n",
       "      <td>17.9</td>\n",
       "      <td>80565723</td>\n",
       "      <td>14.85</td>\n",
       "      <td>3034949748</td>\n",
       "      <td>2</td>\n",
       "      <td>450547679</td>\n",
       "    </tr>\n",
       "    <tr>\n",
       "      <th>23</th>\n",
       "      <td>1955</td>\n",
       "      <td>1.72</td>\n",
       "      <td>6711079</td>\n",
       "      <td>-21140.0</td>\n",
       "      <td>20.7</td>\n",
       "      <td>5.90</td>\n",
       "      <td>138</td>\n",
       "      <td>17.6</td>\n",
       "      <td>71958495</td>\n",
       "      <td>14.78</td>\n",
       "      <td>2,77,30,19,936</td>\n",
       "      <td>2</td>\n",
       "      <td>409880595</td>\n",
       "    </tr>\n",
       "  </tbody>\n",
       "</table>\n",
       "</div>"
      ],
      "text/plain": [
       "    Year  Yearly % \\nChange  Yearly\\nChange  Migrants (net)  Median Age  \\\n",
       "0   2050               0.23         3711367             NaN        38.1   \n",
       "1   2045               0.35         5585537       -414772.0        36.6   \n",
       "2   2040               0.50         7793541       -415736.0        35.0   \n",
       "3   2035               0.66        10016298       -415732.0        33.3   \n",
       "4   2030               0.80        11726140       -440124.0        31.7   \n",
       "5   2025               0.92        13001447       -464081.0        30.0   \n",
       "6   2020               1.04        13970396       -532687.0        28.4   \n",
       "7   2019               1.02        13775474       -532687.0        27.1   \n",
       "8   2018               1.04        13965495       -532687.0        27.1   \n",
       "9   2017               1.07        14159536       -532687.0        27.1   \n",
       "10  2016               1.10        14364846       -532687.0        27.1   \n",
       "11  2015               1.20        15174247       -470015.0        26.8   \n",
       "12  2010               1.47        17334249       -531169.0        25.1   \n",
       "13  2005               1.67        18206876       -377797.0        23.8   \n",
       "14  2000               1.85        18530592       -136514.0        22.7   \n",
       "15  1995               1.99        18128958       -110590.0        21.8   \n",
       "16  1990               2.17        17783558          9030.0        21.1   \n",
       "17  1985               2.33        17081433        115942.0        20.6   \n",
       "18  1980               2.32        15169989        222247.0        20.2   \n",
       "19  1975               2.33        13582621        421208.0        19.7   \n",
       "20  1970               2.15        11213294        -68569.0        19.3   \n",
       "21  1965               2.07         9715129        -17078.0        19.6   \n",
       "22  1960               1.91         8133417        -30805.0        20.2   \n",
       "23  1955               1.72         6711079        -21140.0        20.7   \n",
       "\n",
       "    Fertility Rate  Density (P/Km²)  Urban\\nPop %  Urban Population  \\\n",
       "0             2.24              551          53.5         876613025   \n",
       "1             2.24              545          50.1         811749463   \n",
       "2             2.24              536          46.7         744380367   \n",
       "3             2.24              523          43.5         675456367   \n",
       "4             2.24              506          40.4         607341981   \n",
       "5             2.24              486          37.6         542742539   \n",
       "6             2.24              464          35.0         483098640   \n",
       "7             2.36              460          34.5         471828295   \n",
       "8             2.36              455          34.1         460779764   \n",
       "9             2.36              450          33.6         449963381   \n",
       "10            2.36              445          33.2         439391699   \n",
       "11            2.40              441          32.7         429069459   \n",
       "12            2.80              415          30.8         380744554   \n",
       "13            3.14              386          29.1         334479406   \n",
       "14            3.48              355          27.6         291350282   \n",
       "15            3.83              324          26.5         255558824   \n",
       "16            4.27              294          25.5         222296728   \n",
       "17            4.68              264          24.3         190321782   \n",
       "18            4.97              235          23.0         160941941   \n",
       "19            5.41              210          21.3         132533810   \n",
       "20            5.72              187          19.7         109388950   \n",
       "21            5.89              168          18.7          93493844   \n",
       "22            5.90              152          17.9          80565723   \n",
       "23            5.90              138          17.6          71958495   \n",
       "\n",
       "    Country's Share of\\nWorld Pop World Population  India\\nGlobal Rank  \\\n",
       "0                           16.84       9735033990                   1   \n",
       "1                           17.09       9481803274                   1   \n",
       "2                           17.31       9198847240                   1   \n",
       "3                           17.48       8887524213                   1   \n",
       "4                           17.59       8548487400                   1   \n",
       "5                           17.66       8184437460                   2   \n",
       "6                           17.70       7794798739                   2   \n",
       "7                           17.71       7713468100                   2   \n",
       "8                           17.73       7631091040                   2   \n",
       "9                           17.74       7547858925                   2   \n",
       "10                          17.75       7464022049                   2   \n",
       "11                          17.75       7379797139                   2   \n",
       "12                          17.74       6956823603                   2   \n",
       "13                          17.54       6541907027                   2   \n",
       "14                          17.20       6143493823                   2   \n",
       "15                          16.78       5744212979                   2   \n",
       "16                          16.39       5327231061                   2   \n",
       "17                          16.10       4870921740                   2   \n",
       "18                          15.68       4458003514                   2   \n",
       "19                          15.27       4079480606                   2   \n",
       "20                          15.00       3700437046                   2   \n",
       "21                          14.95       3339583597                   2   \n",
       "22                          14.85       3034949748                   2   \n",
       "23                          14.78   2,77,30,19,936                   2   \n",
       "\n",
       "    Population  \n",
       "0   1639176033  \n",
       "1   1620619200  \n",
       "2   1592691513  \n",
       "3   1553723810  \n",
       "4   1503642322  \n",
       "5   1445011620  \n",
       "6   1380004385  \n",
       "7   1366417754  \n",
       "8   1352642280  \n",
       "9   1338676785  \n",
       "10  1324517249  \n",
       "11  1310152403  \n",
       "12  1234281170  \n",
       "13  1147609927  \n",
       "14  1056575549  \n",
       "15   963922588  \n",
       "16   873277798  \n",
       "17   784360008  \n",
       "18   698952844  \n",
       "19   623102897  \n",
       "20   555189792  \n",
       "21   499123324  \n",
       "22   450547679  \n",
       "23   409880595  "
      ]
     },
     "execution_count": 3,
     "metadata": {},
     "output_type": "execute_result"
    }
   ],
   "source": [
    "df=pd.read_csv(r\"C:\\Users\\CHETAK\\Downloads\\population.csv\")\n",
    "df"
   ]
  },
  {
   "cell_type": "markdown",
   "id": "2e1e097b",
   "metadata": {},
   "source": [
    "# 3) EDA"
   ]
  },
  {
   "cell_type": "code",
   "execution_count": 9,
   "id": "5a7ae8fb",
   "metadata": {},
   "outputs": [
    {
     "name": "stdout",
     "output_type": "stream",
     "text": [
      "<class 'pandas.core.frame.DataFrame'>\n",
      "RangeIndex: 24 entries, 0 to 23\n",
      "Data columns (total 13 columns):\n",
      " #   Column                        Non-Null Count  Dtype  \n",
      "---  ------                        --------------  -----  \n",
      " 0   Year                          24 non-null     int64  \n",
      " 1   Yearly % \n",
      "Change              24 non-null     float64\n",
      " 2   Yearly\n",
      "Change                 24 non-null     int64  \n",
      " 3   Migrants (net)                23 non-null     float64\n",
      " 4   Median Age                    24 non-null     float64\n",
      " 5   Fertility Rate                24 non-null     float64\n",
      " 6   Density (P/Km²)               24 non-null     int64  \n",
      " 7   Urban\n",
      "Pop %                   24 non-null     float64\n",
      " 8   Urban Population              24 non-null     int64  \n",
      " 9   Country's Share of\n",
      "World Pop  24 non-null     float64\n",
      " 10  World Population              24 non-null     object \n",
      " 11  India\n",
      "Global Rank             24 non-null     int64  \n",
      " 12  Population                    24 non-null     int64  \n",
      "dtypes: float64(6), int64(6), object(1)\n",
      "memory usage: 2.6+ KB\n"
     ]
    }
   ],
   "source": [
    "df.info()"
   ]
  },
  {
   "cell_type": "code",
   "execution_count": 8,
   "id": "21dfaff1",
   "metadata": {},
   "outputs": [
    {
     "data": {
      "text/html": [
       "<div>\n",
       "<style scoped>\n",
       "    .dataframe tbody tr th:only-of-type {\n",
       "        vertical-align: middle;\n",
       "    }\n",
       "\n",
       "    .dataframe tbody tr th {\n",
       "        vertical-align: top;\n",
       "    }\n",
       "\n",
       "    .dataframe thead th {\n",
       "        text-align: right;\n",
       "    }\n",
       "</style>\n",
       "<table border=\"1\" class=\"dataframe\">\n",
       "  <thead>\n",
       "    <tr style=\"text-align: right;\">\n",
       "      <th></th>\n",
       "      <th>Year</th>\n",
       "      <th>Yearly % \\nChange</th>\n",
       "      <th>Yearly\\nChange</th>\n",
       "      <th>Migrants (net)</th>\n",
       "      <th>Median Age</th>\n",
       "      <th>Fertility Rate</th>\n",
       "      <th>Density (P/Km²)</th>\n",
       "      <th>Urban\\nPop %</th>\n",
       "      <th>Urban Population</th>\n",
       "      <th>Country's Share of\\nWorld Pop</th>\n",
       "      <th>India\\nGlobal Rank</th>\n",
       "      <th>Population</th>\n",
       "    </tr>\n",
       "  </thead>\n",
       "  <tbody>\n",
       "    <tr>\n",
       "      <th>count</th>\n",
       "      <td>24.000000</td>\n",
       "      <td>24.000000</td>\n",
       "      <td>2.400000e+01</td>\n",
       "      <td>23.000000</td>\n",
       "      <td>24.000000</td>\n",
       "      <td>24.000000</td>\n",
       "      <td>24.000000</td>\n",
       "      <td>24.00000</td>\n",
       "      <td>2.400000e+01</td>\n",
       "      <td>24.000000</td>\n",
       "      <td>24.000000</td>\n",
       "      <td>2.400000e+01</td>\n",
       "    </tr>\n",
       "    <tr>\n",
       "      <th>mean</th>\n",
       "      <td>2005.000000</td>\n",
       "      <td>1.412917</td>\n",
       "      <td>1.286815e+07</td>\n",
       "      <td>-252570.869565</td>\n",
       "      <td>25.962500</td>\n",
       "      <td>3.479583</td>\n",
       "      <td>374.583333</td>\n",
       "      <td>31.53750</td>\n",
       "      <td>3.881687e+08</td>\n",
       "      <td>16.776250</td>\n",
       "      <td>1.791667</td>\n",
       "      <td>1.113504e+09</td>\n",
       "    </tr>\n",
       "    <tr>\n",
       "      <th>std</th>\n",
       "      <td>27.489128</td>\n",
       "      <td>0.666897</td>\n",
       "      <td>4.239948e+06</td>\n",
       "      <td>286175.441586</td>\n",
       "      <td>5.752188</td>\n",
       "      <td>1.447566</td>\n",
       "      <td>136.433745</td>\n",
       "      <td>10.10806</td>\n",
       "      <td>2.378749e+08</td>\n",
       "      <td>1.098227</td>\n",
       "      <td>0.414851</td>\n",
       "      <td>4.058605e+08</td>\n",
       "    </tr>\n",
       "    <tr>\n",
       "      <th>min</th>\n",
       "      <td>1955.000000</td>\n",
       "      <td>0.230000</td>\n",
       "      <td>3.711367e+06</td>\n",
       "      <td>-532687.000000</td>\n",
       "      <td>19.300000</td>\n",
       "      <td>2.240000</td>\n",
       "      <td>138.000000</td>\n",
       "      <td>17.60000</td>\n",
       "      <td>7.195850e+07</td>\n",
       "      <td>14.780000</td>\n",
       "      <td>1.000000</td>\n",
       "      <td>4.098806e+08</td>\n",
       "    </tr>\n",
       "    <tr>\n",
       "      <th>25%</th>\n",
       "      <td>1983.750000</td>\n",
       "      <td>0.995000</td>\n",
       "      <td>9.941006e+06</td>\n",
       "      <td>-500592.000000</td>\n",
       "      <td>20.675000</td>\n",
       "      <td>2.240000</td>\n",
       "      <td>256.750000</td>\n",
       "      <td>23.97500</td>\n",
       "      <td>1.829768e+08</td>\n",
       "      <td>15.995000</td>\n",
       "      <td>2.000000</td>\n",
       "      <td>7.630082e+08</td>\n",
       "    </tr>\n",
       "    <tr>\n",
       "      <th>50%</th>\n",
       "      <td>2012.500000</td>\n",
       "      <td>1.335000</td>\n",
       "      <td>1.387048e+07</td>\n",
       "      <td>-414772.000000</td>\n",
       "      <td>25.950000</td>\n",
       "      <td>2.600000</td>\n",
       "      <td>428.000000</td>\n",
       "      <td>31.75000</td>\n",
       "      <td>4.049070e+08</td>\n",
       "      <td>17.255000</td>\n",
       "      <td>2.000000</td>\n",
       "      <td>1.272217e+09</td>\n",
       "    </tr>\n",
       "    <tr>\n",
       "      <th>75%</th>\n",
       "      <td>2021.250000</td>\n",
       "      <td>2.010000</td>\n",
       "      <td>1.565104e+07</td>\n",
       "      <td>-25972.500000</td>\n",
       "      <td>28.800000</td>\n",
       "      <td>4.752500</td>\n",
       "      <td>469.500000</td>\n",
       "      <td>35.65000</td>\n",
       "      <td>4.980096e+08</td>\n",
       "      <td>17.702500</td>\n",
       "      <td>2.000000</td>\n",
       "      <td>1.396256e+09</td>\n",
       "    </tr>\n",
       "    <tr>\n",
       "      <th>max</th>\n",
       "      <td>2050.000000</td>\n",
       "      <td>2.330000</td>\n",
       "      <td>1.853059e+07</td>\n",
       "      <td>421208.000000</td>\n",
       "      <td>38.100000</td>\n",
       "      <td>5.900000</td>\n",
       "      <td>551.000000</td>\n",
       "      <td>53.50000</td>\n",
       "      <td>8.766130e+08</td>\n",
       "      <td>17.750000</td>\n",
       "      <td>2.000000</td>\n",
       "      <td>1.639176e+09</td>\n",
       "    </tr>\n",
       "  </tbody>\n",
       "</table>\n",
       "</div>"
      ],
      "text/plain": [
       "              Year  Yearly % \\nChange  Yearly\\nChange  Migrants (net)  \\\n",
       "count    24.000000          24.000000    2.400000e+01       23.000000   \n",
       "mean   2005.000000           1.412917    1.286815e+07  -252570.869565   \n",
       "std      27.489128           0.666897    4.239948e+06   286175.441586   \n",
       "min    1955.000000           0.230000    3.711367e+06  -532687.000000   \n",
       "25%    1983.750000           0.995000    9.941006e+06  -500592.000000   \n",
       "50%    2012.500000           1.335000    1.387048e+07  -414772.000000   \n",
       "75%    2021.250000           2.010000    1.565104e+07   -25972.500000   \n",
       "max    2050.000000           2.330000    1.853059e+07   421208.000000   \n",
       "\n",
       "       Median Age  Fertility Rate  Density (P/Km²)  Urban\\nPop %  \\\n",
       "count   24.000000       24.000000        24.000000      24.00000   \n",
       "mean    25.962500        3.479583       374.583333      31.53750   \n",
       "std      5.752188        1.447566       136.433745      10.10806   \n",
       "min     19.300000        2.240000       138.000000      17.60000   \n",
       "25%     20.675000        2.240000       256.750000      23.97500   \n",
       "50%     25.950000        2.600000       428.000000      31.75000   \n",
       "75%     28.800000        4.752500       469.500000      35.65000   \n",
       "max     38.100000        5.900000       551.000000      53.50000   \n",
       "\n",
       "       Urban Population  Country's Share of\\nWorld Pop  India\\nGlobal Rank  \\\n",
       "count      2.400000e+01                      24.000000           24.000000   \n",
       "mean       3.881687e+08                      16.776250            1.791667   \n",
       "std        2.378749e+08                       1.098227            0.414851   \n",
       "min        7.195850e+07                      14.780000            1.000000   \n",
       "25%        1.829768e+08                      15.995000            2.000000   \n",
       "50%        4.049070e+08                      17.255000            2.000000   \n",
       "75%        4.980096e+08                      17.702500            2.000000   \n",
       "max        8.766130e+08                      17.750000            2.000000   \n",
       "\n",
       "         Population  \n",
       "count  2.400000e+01  \n",
       "mean   1.113504e+09  \n",
       "std    4.058605e+08  \n",
       "min    4.098806e+08  \n",
       "25%    7.630082e+08  \n",
       "50%    1.272217e+09  \n",
       "75%    1.396256e+09  \n",
       "max    1.639176e+09  "
      ]
     },
     "execution_count": 8,
     "metadata": {},
     "output_type": "execute_result"
    }
   ],
   "source": [
    "df.describe()"
   ]
  },
  {
   "cell_type": "code",
   "execution_count": 4,
   "id": "625b6edb",
   "metadata": {},
   "outputs": [
    {
     "data": {
      "text/plain": [
       "Year  Yearly % \\nChange  Yearly\\nChange  Migrants (net)  Median Age  Fertility Rate  Density (P/Km²)  Urban\\nPop %  Urban Population  Country's Share of\\nWorld Pop  World Population  India\\nGlobal Rank  Population\n",
       "1955  1.72               6711079         -21140.0        20.7        5.90            138              17.6          71958495          14.78                          2,77,30,19,936    2                   409880595     1\n",
       "2015  1.20               15174247        -470015.0       26.8        2.40            441              32.7          429069459         17.75                          7379797139        2                   1310152403    1\n",
       "2040  0.50               7793541         -415736.0       35.0        2.24            536              46.7          744380367         17.31                          9198847240        1                   1592691513    1\n",
       "2035  0.66               10016298        -415732.0       33.3        2.24            523              43.5          675456367         17.48                          8887524213        1                   1553723810    1\n",
       "2030  0.80               11726140        -440124.0       31.7        2.24            506              40.4          607341981         17.59                          8548487400        1                   1503642322    1\n",
       "2025  0.92               13001447        -464081.0       30.0        2.24            486              37.6          542742539         17.66                          8184437460        2                   1445011620    1\n",
       "2020  1.04               13970396        -532687.0       28.4        2.24            464              35.0          483098640         17.70                          7794798739        2                   1380004385    1\n",
       "2019  1.02               13775474        -532687.0       27.1        2.36            460              34.5          471828295         17.71                          7713468100        2                   1366417754    1\n",
       "2018  1.04               13965495        -532687.0       27.1        2.36            455              34.1          460779764         17.73                          7631091040        2                   1352642280    1\n",
       "2017  1.07               14159536        -532687.0       27.1        2.36            450              33.6          449963381         17.74                          7547858925        2                   1338676785    1\n",
       "2016  1.10               14364846        -532687.0       27.1        2.36            445              33.2          439391699         17.75                          7464022049        2                   1324517249    1\n",
       "2010  1.47               17334249        -531169.0       25.1        2.80            415              30.8          380744554         17.74                          6956823603        2                   1234281170    1\n",
       "1960  1.91               8133417         -30805.0        20.2        5.90            152              17.9          80565723          14.85                          3034949748        2                   450547679     1\n",
       "2005  1.67               18206876        -377797.0       23.8        3.14            386              29.1          334479406         17.54                          6541907027        2                   1147609927    1\n",
       "2000  1.85               18530592        -136514.0       22.7        3.48            355              27.6          291350282         17.20                          6143493823        2                   1056575549    1\n",
       "1995  1.99               18128958        -110590.0       21.8        3.83            324              26.5          255558824         16.78                          5744212979        2                   963922588     1\n",
       "1990  2.17               17783558         9030.0         21.1        4.27            294              25.5          222296728         16.39                          5327231061        2                   873277798     1\n",
       "1985  2.33               17081433         115942.0       20.6        4.68            264              24.3          190321782         16.10                          4870921740        2                   784360008     1\n",
       "1980  2.32               15169989         222247.0       20.2        4.97            235              23.0          160941941         15.68                          4458003514        2                   698952844     1\n",
       "1975  2.33               13582621         421208.0       19.7        5.41            210              21.3          132533810         15.27                          4079480606        2                   623102897     1\n",
       "1970  2.15               11213294        -68569.0        19.3        5.72            187              19.7          109388950         15.00                          3700437046        2                   555189792     1\n",
       "1965  2.07               9715129         -17078.0        19.6        5.89            168              18.7          93493844          14.95                          3339583597        2                   499123324     1\n",
       "2045  0.35               5585537         -414772.0       36.6        2.24            545              50.1          811749463         17.09                          9481803274        1                   1620619200    1\n",
       "dtype: int64"
      ]
     },
     "execution_count": 4,
     "metadata": {},
     "output_type": "execute_result"
    }
   ],
   "source": [
    "\n",
    "df.value_counts().T"
   ]
  },
  {
   "cell_type": "code",
   "execution_count": 11,
   "id": "cecd1047",
   "metadata": {},
   "outputs": [
    {
     "data": {
      "text/plain": [
       "23"
      ]
     },
     "execution_count": 11,
     "metadata": {},
     "output_type": "execute_result"
    }
   ],
   "source": [
    "df.value_counts().sum()"
   ]
  },
  {
   "cell_type": "code",
   "execution_count": 12,
   "id": "7608ea22",
   "metadata": {},
   "outputs": [
    {
     "data": {
      "text/plain": [
       "[RangeIndex(start=0, stop=24, step=1),\n",
       " Index(['Year', 'Yearly % \\nChange', 'Yearly\\nChange', 'Migrants (net)',\n",
       "        'Median Age', 'Fertility Rate', 'Density (P/Km²)', 'Urban\\nPop %',\n",
       "        'Urban Population', 'Country's Share of\\nWorld Pop', 'World Population',\n",
       "        'India\\nGlobal Rank', 'Population'],\n",
       "       dtype='object')]"
      ]
     },
     "execution_count": 12,
     "metadata": {},
     "output_type": "execute_result"
    }
   ],
   "source": [
    "df.axes"
   ]
  },
  {
   "cell_type": "code",
   "execution_count": 13,
   "id": "722ee518",
   "metadata": {},
   "outputs": [
    {
     "data": {
      "text/plain": [
       "Year                             0\n",
       "Yearly % \\nChange                0\n",
       "Yearly\\nChange                   0\n",
       "Migrants (net)                   1\n",
       "Median Age                       0\n",
       "Fertility Rate                   0\n",
       "Density (P/Km²)                  0\n",
       "Urban\\nPop %                     0\n",
       "Urban Population                 0\n",
       "Country's Share of\\nWorld Pop    0\n",
       "World Population                 0\n",
       "India\\nGlobal Rank               0\n",
       "Population                       0\n",
       "dtype: int64"
      ]
     },
     "execution_count": 13,
     "metadata": {},
     "output_type": "execute_result"
    }
   ],
   "source": [
    "df.isna().sum()"
   ]
  },
  {
   "cell_type": "code",
   "execution_count": 14,
   "id": "e77e6925",
   "metadata": {},
   "outputs": [
    {
     "data": {
      "text/plain": [
       "0          NaN\n",
       "1    -414772.0\n",
       "2    -415736.0\n",
       "3    -415732.0\n",
       "4    -440124.0\n",
       "5    -464081.0\n",
       "6    -532687.0\n",
       "7    -532687.0\n",
       "8    -532687.0\n",
       "9    -532687.0\n",
       "10   -532687.0\n",
       "11   -470015.0\n",
       "12   -531169.0\n",
       "13   -377797.0\n",
       "14   -136514.0\n",
       "15   -110590.0\n",
       "16      9030.0\n",
       "17    115942.0\n",
       "18    222247.0\n",
       "19    421208.0\n",
       "20    -68569.0\n",
       "21    -17078.0\n",
       "22    -30805.0\n",
       "23    -21140.0\n",
       "Name: Migrants (net), dtype: float64"
      ]
     },
     "execution_count": 14,
     "metadata": {},
     "output_type": "execute_result"
    }
   ],
   "source": [
    "df['Migrants (net)']"
   ]
  },
  {
   "cell_type": "code",
   "execution_count": 15,
   "id": "42e8f1f5",
   "metadata": {},
   "outputs": [
    {
     "data": {
      "text/plain": [
       "-414772.0"
      ]
     },
     "execution_count": 15,
     "metadata": {},
     "output_type": "execute_result"
    }
   ],
   "source": [
    "df['Migrants (net)'].median()"
   ]
  },
  {
   "cell_type": "code",
   "execution_count": 16,
   "id": "956984dd",
   "metadata": {},
   "outputs": [
    {
     "data": {
      "text/plain": [
       "0     -414772.0\n",
       "1     -414772.0\n",
       "2     -415736.0\n",
       "3     -415732.0\n",
       "4     -440124.0\n",
       "5     -464081.0\n",
       "6     -532687.0\n",
       "7     -532687.0\n",
       "8     -532687.0\n",
       "9     -532687.0\n",
       "10    -532687.0\n",
       "11    -470015.0\n",
       "12    -531169.0\n",
       "13    -377797.0\n",
       "14    -136514.0\n",
       "15    -110590.0\n",
       "16       9030.0\n",
       "17     115942.0\n",
       "18     222247.0\n",
       "19     421208.0\n",
       "20     -68569.0\n",
       "21     -17078.0\n",
       "22     -30805.0\n",
       "23     -21140.0\n",
       "Name: Migrants (net), dtype: object"
      ]
     },
     "execution_count": 16,
     "metadata": {},
     "output_type": "execute_result"
    }
   ],
   "source": [
    "df['Migrants (net)'].fillna('-414772.0',inplace=True)\n",
    "df['Migrants (net)']"
   ]
  },
  {
   "cell_type": "code",
   "execution_count": 17,
   "id": "9c9bfcf9",
   "metadata": {},
   "outputs": [
    {
     "data": {
      "text/plain": [
       "(24, 13)"
      ]
     },
     "execution_count": 17,
     "metadata": {},
     "output_type": "execute_result"
    }
   ],
   "source": [
    "df.shape"
   ]
  },
  {
   "cell_type": "code",
   "execution_count": 18,
   "id": "81081216",
   "metadata": {},
   "outputs": [
    {
     "data": {
      "text/plain": [
       "<seaborn.axisgrid.PairGrid at 0x2141a129df0>"
      ]
     },
     "execution_count": 18,
     "metadata": {},
     "output_type": "execute_result"
    },
    {
     "data": {
      "image/png": "[encoded data removed]",
      "text/plain": [
       "<Figure size 1980x1980 with 132 Axes>"
      ]
     },
     "metadata": {
      "needs_background": "light"
     },
     "output_type": "display_data"
    }
   ],
   "source": [
    "sns.pairplot(df)"
   ]
  },
  {
   "cell_type": "code",
   "execution_count": 19,
   "id": "31f56651",
   "metadata": {},
   "outputs": [
    {
     "data": {
      "text/plain": [
       "<AxesSubplot:>"
      ]
     },
     "execution_count": 19,
     "metadata": {},
     "output_type": "execute_result"
    },
    {
     "data": {
      "image/png": "[encoded data removed]",
      "text/plain": [
       "<Figure size 432x288 with 2 Axes>"
      ]
     },
     "metadata": {
      "needs_background": "light"
     },
     "output_type": "display_data"
    }
   ],
   "source": [
    "sns.heatmap(df.corr(),annot =True)"
   ]
  },
  {
   "cell_type": "code",
   "execution_count": 20,
   "id": "5a773353",
   "metadata": {},
   "outputs": [
    {
     "data": {
      "text/plain": [
       "<seaborn.axisgrid.PairGrid at 0x21420225070>"
      ]
     },
     "execution_count": 20,
     "metadata": {},
     "output_type": "execute_result"
    },
    {
     "data": {
      "image/png": "[encoded data removed]",
      "text/plain": [
       "<Figure size 180x180 with 1 Axes>"
      ]
     },
     "metadata": {
      "needs_background": "light"
     },
     "output_type": "display_data"
    }
   ],
   "source": [
    "sns.pairplot(df, x_vars=['Population'],y_vars=['Year'])"
   ]
  },
  {
   "cell_type": "code",
   "execution_count": 21,
   "id": "ed50564f",
   "metadata": {},
   "outputs": [
    {
     "data": {
      "text/plain": [
       "<seaborn.axisgrid.FacetGrid at 0x2142130a160>"
      ]
     },
     "execution_count": 21,
     "metadata": {},
     "output_type": "execute_result"
    },
    {
     "data": {
      "image/png": "[encoded data removed]",
      "text/plain": [
       "<Figure size 360x360 with 1 Axes>"
      ]
     },
     "metadata": {
      "needs_background": "light"
     },
     "output_type": "display_data"
    }
   ],
   "source": [
    "sns.displot(df['Population'], kde=True)"
   ]
  },
  {
   "cell_type": "code",
   "execution_count": 22,
   "id": "07c6a4df",
   "metadata": {},
   "outputs": [
    {
     "data": {
      "text/plain": [
       "<seaborn.axisgrid.FacetGrid at 0x214211fbf40>"
      ]
     },
     "execution_count": 22,
     "metadata": {},
     "output_type": "execute_result"
    },
    {
     "data": {
      "image/png": "[encoded data removed]",
      "text/plain": [
       "<Figure size 360x360 with 1 Axes>"
      ]
     },
     "metadata": {
      "needs_background": "light"
     },
     "output_type": "display_data"
    }
   ],
   "source": [
    "sns.displot(df['Year'], kde=True)"
   ]
  },
  {
   "cell_type": "code",
   "execution_count": 25,
   "id": "1ed05e97",
   "metadata": {},
   "outputs": [],
   "source": [
    "y=df[['Population']]\n",
    "x=df[['Year']]"
   ]
  },
  {
   "cell_type": "markdown",
   "id": "f6c34ec0",
   "metadata": {},
   "source": [
    "# 4) feature engg"
   ]
  },
  {
   "cell_type": "markdown",
   "id": "668f65bd",
   "metadata": {},
   "source": [
    "# 5) feature selection"
   ]
  },
  {
   "cell_type": "markdown",
   "id": "ff58f563",
   "metadata": {},
   "source": [
    "# 6) model training"
   ]
  },
  {
   "cell_type": "code",
   "execution_count": 26,
   "id": "52fd3044",
   "metadata": {},
   "outputs": [],
   "source": [
    "x_train,x_test,y_train,y_test = train_test_split(x,y,test_size = 0.2,random_state=1)"
   ]
  },
  {
   "cell_type": "code",
   "execution_count": 27,
   "id": "e26394b3",
   "metadata": {},
   "outputs": [],
   "source": [
    "# x_train"
   ]
  },
  {
   "cell_type": "code",
   "execution_count": null,
   "id": "2039a8d5",
   "metadata": {},
   "outputs": [],
   "source": [
    "# x_test"
   ]
  },
  {
   "cell_type": "code",
   "execution_count": 28,
   "id": "5c8fe67a",
   "metadata": {},
   "outputs": [
    {
     "data": {
      "text/plain": [
       "LinearRegression()"
      ]
     },
     "execution_count": 28,
     "metadata": {},
     "output_type": "execute_result"
    }
   ],
   "source": [
    "lr=LinearRegression()\n",
    "lr.fit(x_train,y_train)"
   ]
  },
  {
   "cell_type": "markdown",
   "id": "d409c152",
   "metadata": {},
   "source": [
    "# 7) model evalution"
   ]
  },
  {
   "cell_type": "code",
   "execution_count": 29,
   "id": "1c5b2e90",
   "metadata": {},
   "outputs": [
    {
     "data": {
      "text/plain": [
       "array([[1.11609744e+09],\n",
       "       [7.54528642e+08],\n",
       "       [1.54997999e+09],\n",
       "       [1.04378368e+09],\n",
       "       [6.09901125e+08]])"
      ]
     },
     "execution_count": 29,
     "metadata": {},
     "output_type": "execute_result"
    }
   ],
   "source": [
    "y_pred=lr.predict(x_test)\n",
    "y_pred"
   ]
  },
  {
   "cell_type": "code",
   "execution_count": 30,
   "id": "4eea24d7",
   "metadata": {},
   "outputs": [
    {
     "data": {
      "text/html": [
       "<div>\n",
       "<style scoped>\n",
       "    .dataframe tbody tr th:only-of-type {\n",
       "        vertical-align: middle;\n",
       "    }\n",
       "\n",
       "    .dataframe tbody tr th {\n",
       "        vertical-align: top;\n",
       "    }\n",
       "\n",
       "    .dataframe thead th {\n",
       "        text-align: right;\n",
       "    }\n",
       "</style>\n",
       "<table border=\"1\" class=\"dataframe\">\n",
       "  <thead>\n",
       "    <tr style=\"text-align: right;\">\n",
       "      <th></th>\n",
       "      <th>Population</th>\n",
       "    </tr>\n",
       "  </thead>\n",
       "  <tbody>\n",
       "    <tr>\n",
       "      <th>13</th>\n",
       "      <td>1147609927</td>\n",
       "    </tr>\n",
       "    <tr>\n",
       "      <th>18</th>\n",
       "      <td>698952844</td>\n",
       "    </tr>\n",
       "    <tr>\n",
       "      <th>3</th>\n",
       "      <td>1553723810</td>\n",
       "    </tr>\n",
       "    <tr>\n",
       "      <th>14</th>\n",
       "      <td>1056575549</td>\n",
       "    </tr>\n",
       "    <tr>\n",
       "      <th>20</th>\n",
       "      <td>555189792</td>\n",
       "    </tr>\n",
       "  </tbody>\n",
       "</table>\n",
       "</div>"
      ],
      "text/plain": [
       "    Population\n",
       "13  1147609927\n",
       "18   698952844\n",
       "3   1553723810\n",
       "14  1056575549\n",
       "20   555189792"
      ]
     },
     "execution_count": 30,
     "metadata": {},
     "output_type": "execute_result"
    }
   ],
   "source": [
    "y_test"
   ]
  },
  {
   "cell_type": "code",
   "execution_count": 31,
   "id": "196062a8",
   "metadata": {},
   "outputs": [
    {
     "data": {
      "text/plain": [
       "array([[14462751.75907627]])"
      ]
     },
     "execution_count": 31,
     "metadata": {},
     "output_type": "execute_result"
    }
   ],
   "source": [
    "lr.coef_"
   ]
  },
  {
   "cell_type": "code",
   "execution_count": 32,
   "id": "8d51d97b",
   "metadata": {},
   "outputs": [
    {
     "data": {
      "text/plain": [
       "array([-2.78817198e+10])"
      ]
     },
     "execution_count": 32,
     "metadata": {},
     "output_type": "execute_result"
    }
   ],
   "source": [
    "lr.intercept_"
   ]
  },
  {
   "cell_type": "code",
   "execution_count": 33,
   "id": "267145bc",
   "metadata": {},
   "outputs": [
    {
     "data": {
      "text/plain": [
       "1622293788.5155907"
      ]
     },
     "execution_count": 33,
     "metadata": {},
     "output_type": "execute_result"
    }
   ],
   "source": [
    "# y=mx+c\n",
    "y_predicted=14462751.75907627*2040+-2.78817198e+10\n",
    "y_predicted"
   ]
  },
  {
   "cell_type": "code",
   "execution_count": 34,
   "id": "815d17b0",
   "metadata": {},
   "outputs": [
    {
     "name": "stdout",
     "output_type": "stream",
     "text": [
      "[[1.47766623e+09]]\n"
     ]
    }
   ],
   "source": [
    "result=lr.predict([[2030]])\n",
    "print(result)"
   ]
  },
  {
   "cell_type": "code",
   "execution_count": 35,
   "id": "85b5cfb6",
   "metadata": {},
   "outputs": [
    {
     "data": {
      "text/plain": [
       "array([[3.2064609e+08]])"
      ]
     },
     "execution_count": 35,
     "metadata": {},
     "output_type": "execute_result"
    }
   ],
   "source": [
    "result=lr.predict([[1950]])\n",
    "result"
   ]
  },
  {
   "cell_type": "code",
   "execution_count": 36,
   "id": "42362597",
   "metadata": {},
   "outputs": [
    {
     "data": {
      "text/html": [
       "<div>\n",
       "<style scoped>\n",
       "    .dataframe tbody tr th:only-of-type {\n",
       "        vertical-align: middle;\n",
       "    }\n",
       "\n",
       "    .dataframe tbody tr th {\n",
       "        vertical-align: top;\n",
       "    }\n",
       "\n",
       "    .dataframe thead th {\n",
       "        text-align: right;\n",
       "    }\n",
       "</style>\n",
       "<table border=\"1\" class=\"dataframe\">\n",
       "  <thead>\n",
       "    <tr style=\"text-align: right;\">\n",
       "      <th></th>\n",
       "      <th>Year</th>\n",
       "      <th>Yearly % \\nChange</th>\n",
       "      <th>Yearly\\nChange</th>\n",
       "      <th>Migrants (net)</th>\n",
       "      <th>Median Age</th>\n",
       "      <th>Fertility Rate</th>\n",
       "      <th>Density (P/Km²)</th>\n",
       "      <th>Urban\\nPop %</th>\n",
       "      <th>Urban Population</th>\n",
       "      <th>Country's Share of\\nWorld Pop</th>\n",
       "      <th>World Population</th>\n",
       "      <th>India\\nGlobal Rank</th>\n",
       "      <th>Population</th>\n",
       "    </tr>\n",
       "  </thead>\n",
       "  <tbody>\n",
       "    <tr>\n",
       "      <th>0</th>\n",
       "      <td>2050</td>\n",
       "      <td>0.23</td>\n",
       "      <td>3711367</td>\n",
       "      <td>-414772.0</td>\n",
       "      <td>38.1</td>\n",
       "      <td>2.24</td>\n",
       "      <td>551</td>\n",
       "      <td>53.5</td>\n",
       "      <td>876613025</td>\n",
       "      <td>16.84</td>\n",
       "      <td>9735033990</td>\n",
       "      <td>1</td>\n",
       "      <td>1639176033</td>\n",
       "    </tr>\n",
       "    <tr>\n",
       "      <th>1</th>\n",
       "      <td>2045</td>\n",
       "      <td>0.35</td>\n",
       "      <td>5585537</td>\n",
       "      <td>-414772.0</td>\n",
       "      <td>36.6</td>\n",
       "      <td>2.24</td>\n",
       "      <td>545</td>\n",
       "      <td>50.1</td>\n",
       "      <td>811749463</td>\n",
       "      <td>17.09</td>\n",
       "      <td>9481803274</td>\n",
       "      <td>1</td>\n",
       "      <td>1620619200</td>\n",
       "    </tr>\n",
       "    <tr>\n",
       "      <th>2</th>\n",
       "      <td>2040</td>\n",
       "      <td>0.50</td>\n",
       "      <td>7793541</td>\n",
       "      <td>-415736.0</td>\n",
       "      <td>35.0</td>\n",
       "      <td>2.24</td>\n",
       "      <td>536</td>\n",
       "      <td>46.7</td>\n",
       "      <td>744380367</td>\n",
       "      <td>17.31</td>\n",
       "      <td>9198847240</td>\n",
       "      <td>1</td>\n",
       "      <td>1592691513</td>\n",
       "    </tr>\n",
       "    <tr>\n",
       "      <th>3</th>\n",
       "      <td>2035</td>\n",
       "      <td>0.66</td>\n",
       "      <td>10016298</td>\n",
       "      <td>-415732.0</td>\n",
       "      <td>33.3</td>\n",
       "      <td>2.24</td>\n",
       "      <td>523</td>\n",
       "      <td>43.5</td>\n",
       "      <td>675456367</td>\n",
       "      <td>17.48</td>\n",
       "      <td>8887524213</td>\n",
       "      <td>1</td>\n",
       "      <td>1553723810</td>\n",
       "    </tr>\n",
       "    <tr>\n",
       "      <th>4</th>\n",
       "      <td>2030</td>\n",
       "      <td>0.80</td>\n",
       "      <td>11726140</td>\n",
       "      <td>-440124.0</td>\n",
       "      <td>31.7</td>\n",
       "      <td>2.24</td>\n",
       "      <td>506</td>\n",
       "      <td>40.4</td>\n",
       "      <td>607341981</td>\n",
       "      <td>17.59</td>\n",
       "      <td>8548487400</td>\n",
       "      <td>1</td>\n",
       "      <td>1503642322</td>\n",
       "    </tr>\n",
       "  </tbody>\n",
       "</table>\n",
       "</div>"
      ],
      "text/plain": [
       "   Year  Yearly % \\nChange  Yearly\\nChange Migrants (net)  Median Age  \\\n",
       "0  2050               0.23         3711367      -414772.0        38.1   \n",
       "1  2045               0.35         5585537      -414772.0        36.6   \n",
       "2  2040               0.50         7793541      -415736.0        35.0   \n",
       "3  2035               0.66        10016298      -415732.0        33.3   \n",
       "4  2030               0.80        11726140      -440124.0        31.7   \n",
       "\n",
       "   Fertility Rate  Density (P/Km²)  Urban\\nPop %  Urban Population  \\\n",
       "0            2.24              551          53.5         876613025   \n",
       "1            2.24              545          50.1         811749463   \n",
       "2            2.24              536          46.7         744380367   \n",
       "3            2.24              523          43.5         675456367   \n",
       "4            2.24              506          40.4         607341981   \n",
       "\n",
       "   Country's Share of\\nWorld Pop World Population  India\\nGlobal Rank  \\\n",
       "0                          16.84       9735033990                   1   \n",
       "1                          17.09       9481803274                   1   \n",
       "2                          17.31       9198847240                   1   \n",
       "3                          17.48       8887524213                   1   \n",
       "4                          17.59       8548487400                   1   \n",
       "\n",
       "   Population  \n",
       "0  1639176033  \n",
       "1  1620619200  \n",
       "2  1592691513  \n",
       "3  1553723810  \n",
       "4  1503642322  "
      ]
     },
     "execution_count": 36,
     "metadata": {},
     "output_type": "execute_result"
    }
   ],
   "source": [
    "df.head(5)"
   ]
  },
  {
   "cell_type": "code",
   "execution_count": 37,
   "id": "5160f9dd",
   "metadata": {},
   "outputs": [],
   "source": [
    "from sklearn.metrics import mean_squared_error,r2_score,mean_absolute_error"
   ]
  },
  {
   "cell_type": "code",
   "execution_count": 38,
   "id": "e5a7ee7e",
   "metadata": {},
   "outputs": [
    {
     "data": {
      "text/plain": [
       "0.9883031782427116"
      ]
     },
     "execution_count": 38,
     "metadata": {},
     "output_type": "execute_result"
    }
   ],
   "source": [
    "lr.score(x_test,y_test)"
   ]
  },
  {
   "cell_type": "markdown",
   "id": "d00c2886",
   "metadata": {},
   "source": [
    "## check outliers at dependent and indpendent var"
   ]
  },
  {
   "cell_type": "code",
   "execution_count": 39,
   "id": "9a07027d",
   "metadata": {},
   "outputs": [
    {
     "name": "stderr",
     "output_type": "stream",
     "text": [
      "C:\\Users\\CHETAK\\ana\\lib\\site-packages\\seaborn\\_decorators.py:36: FutureWarning: Pass the following variable as a keyword arg: x. From version 0.12, the only valid positional argument will be `data`, and passing other arguments without an explicit keyword will result in an error or misinterpretation.\n",
      "  warnings.warn(\n"
     ]
    },
    {
     "data": {
      "text/plain": [
       "<AxesSubplot:xlabel='Population'>"
      ]
     },
     "execution_count": 39,
     "metadata": {},
     "output_type": "execute_result"
    },
    {
     "data": {
      "image/png": "[encoded data removed]",
      "text/plain": [
       "<Figure size 432x288 with 1 Axes>"
      ]
     },
     "metadata": {
      "needs_background": "light"
     },
     "output_type": "display_data"
    }
   ],
   "source": [
    "sns.boxplot(df['Population'])"
   ]
  },
  {
   "cell_type": "code",
   "execution_count": 40,
   "id": "b4b20288",
   "metadata": {},
   "outputs": [],
   "source": [
    "# no outliers\n"
   ]
  },
  {
   "cell_type": "markdown",
   "id": "b126f2b7",
   "metadata": {},
   "source": [
    "### check IQR"
   ]
  },
  {
   "cell_type": "code",
   "execution_count": 41,
   "id": "bfccb504",
   "metadata": {},
   "outputs": [
    {
     "data": {
      "text/plain": [
       "763008217.0"
      ]
     },
     "execution_count": 41,
     "metadata": {},
     "output_type": "execute_result"
    }
   ],
   "source": [
    "q1=df['Population'].quantile(0.25)\n",
    "q1"
   ]
  },
  {
   "cell_type": "code",
   "execution_count": 42,
   "id": "5f6a415f",
   "metadata": {},
   "outputs": [
    {
     "data": {
      "text/plain": [
       "1396256193.75"
      ]
     },
     "execution_count": 42,
     "metadata": {},
     "output_type": "execute_result"
    }
   ],
   "source": [
    "q3=df['Population'].quantile(0.75)\n",
    "q3"
   ]
  },
  {
   "cell_type": "code",
   "execution_count": 43,
   "id": "9a13c172",
   "metadata": {},
   "outputs": [
    {
     "data": {
      "text/plain": [
       "633247976.75"
      ]
     },
     "execution_count": 43,
     "metadata": {},
     "output_type": "execute_result"
    }
   ],
   "source": [
    "IQR=q3-q1\n",
    "IQR"
   ]
  },
  {
   "cell_type": "code",
   "execution_count": 44,
   "id": "1150d6fc",
   "metadata": {},
   "outputs": [
    {
     "name": "stdout",
     "output_type": "stream",
     "text": [
      "-186863748.125\n",
      "2346128158.875\n"
     ]
    }
   ],
   "source": [
    "lower_tail = q1 - 1.5 * IQR\n",
    "print(lower_tail)\n",
    "\n",
    "upper_tail = q3 + 1.5 * IQR\n",
    "print(upper_tail)"
   ]
  },
  {
   "cell_type": "code",
   "execution_count": 45,
   "id": "55d1d10b",
   "metadata": {},
   "outputs": [],
   "source": [
    "# less than -186863748.125 and more than 2346128158.875  value is an outlier but in this model theire are no outliers "
   ]
  },
  {
   "cell_type": "code",
   "execution_count": 46,
   "id": "14f3e9c3",
   "metadata": {},
   "outputs": [
    {
     "data": {
      "text/plain": [
       "<AxesSubplot:>"
      ]
     },
     "execution_count": 46,
     "metadata": {},
     "output_type": "execute_result"
    },
    {
     "data": {
      "image/png": "[encoded data removed]",
      "text/plain": [
       "<Figure size 1440x720 with 1 Axes>"
      ]
     },
     "metadata": {
      "needs_background": "light"
     },
     "output_type": "display_data"
    }
   ],
   "source": [
    "plt.figure(figsize=(20,10))\n",
    "\n",
    "df.boxplot()"
   ]
  },
  {
   "cell_type": "code",
   "execution_count": 47,
   "id": "adad91fd",
   "metadata": {},
   "outputs": [
    {
     "name": "stderr",
     "output_type": "stream",
     "text": [
      "C:\\Users\\CHETAK\\ana\\lib\\site-packages\\seaborn\\_decorators.py:36: FutureWarning: Pass the following variable as a keyword arg: x. From version 0.12, the only valid positional argument will be `data`, and passing other arguments without an explicit keyword will result in an error or misinterpretation.\n",
      "  warnings.warn(\n"
     ]
    },
    {
     "data": {
      "text/plain": [
       "<AxesSubplot:xlabel='Year'>"
      ]
     },
     "execution_count": 47,
     "metadata": {},
     "output_type": "execute_result"
    },
    {
     "data": {
      "image/png": "[encoded data removed]",
      "text/plain": [
       "<Figure size 432x288 with 1 Axes>"
      ]
     },
     "metadata": {
      "needs_background": "light"
     },
     "output_type": "display_data"
    }
   ],
   "source": [
    "sns.boxplot(df['Year'])"
   ]
  },
  {
   "cell_type": "markdown",
   "id": "336f09e3",
   "metadata": {},
   "source": [
    "## testing data evalution"
   ]
  },
  {
   "cell_type": "code",
   "execution_count": 48,
   "id": "f92420c9",
   "metadata": {},
   "outputs": [
    {
     "name": "stdout",
     "output_type": "stream",
     "text": [
      "MSE = 1450536908311242.0\n",
      "R Sequared Value= 0.9883031782427116\n",
      "RMSE=38085914.82833571\n",
      "Adjusted R- Sequared = 0.9844042376569488\n",
      "MAE = 31667062.817468263\n"
     ]
    }
   ],
   "source": [
    "y_pred = lr.predict(x_test)\n",
    "\n",
    "mse = mean_squared_error(y_test,y_pred)\n",
    "print(f\"MSE = {mse}\")\n",
    "\n",
    "r2 = r2_score(y_test,y_pred)\n",
    "print(f\"R Sequared Value= {r2}\")\n",
    "\n",
    "\n",
    "rmse = np.sqrt(mse)\n",
    "print(f'RMSE={rmse}')\n",
    "\n",
    "adj_r2 = 1 - (((1-r2) * (len(x_test)-1)) /  (len(x_test)-len(x.columns)-1 ))\n",
    "print(f\"Adjusted R- Sequared = {adj_r2}\")\n",
    "\n",
    "mae = mean_absolute_error(y_test,y_pred)\n",
    "print(f'MAE = {mae}')"
   ]
  },
  {
   "cell_type": "markdown",
   "id": "7e462302",
   "metadata": {},
   "source": [
    "## training data evalution"
   ]
  },
  {
   "cell_type": "code",
   "execution_count": 49,
   "id": "e1942fbb",
   "metadata": {},
   "outputs": [
    {
     "name": "stdout",
     "output_type": "stream",
     "text": [
      "MSE = 2587320290285879.5\n",
      "R Sequared Value= 0.9840940933334752\n",
      "Adjsuted r- squared=0.9876151299040477\n"
     ]
    }
   ],
   "source": [
    "y_pred_train = lr.predict(x_train)\n",
    "\n",
    "mse_train = mean_squared_error(y_train,y_pred_train)\n",
    "print(f\"MSE = {mse_train}\")\n",
    "\n",
    "r2_train = r2_score(y_train,y_pred_train)\n",
    "print(f\"R Sequared Value= {r2_train}\")\n",
    "\n",
    "adj_r2 = 1 - (((1-r2) * (len(x_train)-1)) /  (len(x_train)-len(x.columns)-1 ))\n",
    "print(f\"Adjsuted r- squared={adj_r2}\")"
   ]
  },
  {
   "cell_type": "markdown",
   "id": "24f84682",
   "metadata": {},
   "source": [
    "## check for assumpiton\n",
    "## normality test"
   ]
  },
  {
   "cell_type": "code",
   "execution_count": 50,
   "id": "2fec7e97",
   "metadata": {},
   "outputs": [
    {
     "name": "stdout",
     "output_type": "stream",
     "text": [
      "p-value= [0.22860189]\n",
      "Residual are normal distributed\n"
     ]
    },
    {
     "name": "stderr",
     "output_type": "stream",
     "text": [
      "C:\\Users\\CHETAK\\ana\\lib\\site-packages\\scipy\\stats\\stats.py:1541: UserWarning: kurtosistest only valid for n>=20 ... continuing anyway, n=19\n",
      "  warnings.warn(\"kurtosistest only valid for n>=20 ... continuing \"\n"
     ]
    }
   ],
   "source": [
    "from scipy.stats import shapiro,kstest, normaltest\n",
    "residual = y_train-y_pred_train\n",
    "_,p_value = normaltest(residual)\n",
    "print(f\"p-value= {p_value}\")\n",
    "\n",
    "if p_value > 0.05: \n",
    "    print(\"Residual are normal distributed\")\n",
    "else:\n",
    "    print(\"Residual are not normally distributed\")"
   ]
  },
  {
   "cell_type": "markdown",
   "id": "471a26eb",
   "metadata": {},
   "source": [
    "## type of predicted model"
   ]
  },
  {
   "cell_type": "code",
   "execution_count": null,
   "id": "799c3ad2",
   "metadata": {},
   "outputs": [],
   "source": [
    "Expected Acc >>95%\n",
    "------------------------\n",
    "Training Acc >> 98.40%\n",
    "Testing Acc >> 98.83%\n",
    "------------------------\n",
    "Bias > low Bias  >>98.4-95=3.4%\n",
    "Varaince >> low Variance  >>98.40-98.83=0.43%\n",
    "------------------------\n",
    "Generelise model"
   ]
  },
  {
   "cell_type": "markdown",
   "id": "15d6b82d",
   "metadata": {},
   "source": [
    "## plotting graphs for visualization"
   ]
  },
  {
   "cell_type": "code",
   "execution_count": 52,
   "id": "ad4e79b2",
   "metadata": {},
   "outputs": [
    {
     "data": {
      "text/plain": [
       "Text(0.5, 1.0, 'Indias Population')"
      ]
     },
     "execution_count": 52,
     "metadata": {},
     "output_type": "execute_result"
    },
    {
     "data": {
      "image/png": "[encoded data removed]",
      "text/plain": [
       "<Figure size 432x288 with 1 Axes>"
      ]
     },
     "metadata": {
      "needs_background": "light"
     },
     "output_type": "display_data"
    }
   ],
   "source": [
    "# % matplotlib inline\n",
    "plt.scatter(x,y,color='orange')\n",
    "plt.xlabel('Year')\n",
    "plt.ylabel('Population')\n",
    "plt.title('Indias Population')"
   ]
  },
  {
   "cell_type": "code",
   "execution_count": 54,
   "id": "d9496def",
   "metadata": {},
   "outputs": [
    {
     "data": {
      "text/plain": [
       "Text(0.5, 1.0, 'Indias Population')"
      ]
     },
     "execution_count": 54,
     "metadata": {},
     "output_type": "execute_result"
    },
    {
     "data": {
      "image/png": "[encoded data removed]",
      "text/plain": [
       "<Figure size 432x288 with 1 Axes>"
      ]
     },
     "metadata": {
      "needs_background": "light"
     },
     "output_type": "display_data"
    }
   ],
   "source": [
    "# % matplotlib inline\n",
    "plt.scatter(x_test,y_test,color='blue')\n",
    "plt.scatter(x_test,y_pred,color='red')\n",
    "plt.xlabel('Year')\n",
    "plt.ylabel('Population')\n",
    "plt.title('Indias Population')"
   ]
  },
  {
   "cell_type": "code",
   "execution_count": 55,
   "id": "dd4d69e6",
   "metadata": {},
   "outputs": [
    {
     "data": {
      "text/plain": [
       "Text(0.5, 1.0, 'Indias Population')"
      ]
     },
     "execution_count": 55,
     "metadata": {},
     "output_type": "execute_result"
    },
    {
     "data": {
      "image/png": "[encoded data removed]",
      "text/plain": [
       "<Figure size 432x288 with 1 Axes>"
      ]
     },
     "metadata": {
      "needs_background": "light"
     },
     "output_type": "display_data"
    }
   ],
   "source": [
    "# % matplotlib inline\n",
    "plt.scatter(x,y,color='blue')\n",
    "plt.scatter(x_test,y_pred,color='brown')\n",
    "plt.xlabel('Year')\n",
    "plt.ylabel('Population')\n",
    "plt.title('Indias Population')"
   ]
  },
  {
   "cell_type": "code",
   "execution_count": null,
   "id": "67cab8ad",
   "metadata": {},
   "outputs": [],
   "source": []
  }
 ],
 "metadata": {
  "kernelspec": {
   "display_name": "Python 3 (ipykernel)",
   "language": "python",
   "name": "python3"
  },
  "language_info": {
   "codemirror_mode": {
    "name": "ipython",
    "version": 3
   },
   "file_extension": ".py",
   "mimetype": "text/x-python",
   "name": "python",
   "nbconvert_exporter": "python",
   "pygments_lexer": "ipython3",
   "version": "3.9.7"
  }
 },
 "nbformat": 4,
 "nbformat_minor": 5
}
