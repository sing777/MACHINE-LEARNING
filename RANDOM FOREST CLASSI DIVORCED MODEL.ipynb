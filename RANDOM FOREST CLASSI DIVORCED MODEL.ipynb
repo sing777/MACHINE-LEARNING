{
 "cells": [
  {
   "cell_type": "code",
   "execution_count": 51,
   "id": "d7bab36b",
   "metadata": {},
   "outputs": [],
   "source": [
    "import pandas as pd\n",
    "import numpy as np\n",
    "\n",
    "import matplotlib.pyplot as plt \n",
    "import seaborn as sns\n",
    "\n",
    "\n",
    "from sklearn.ensemble import RandomForestClassifier\n",
    "from sklearn.model_selection import train_test_split, GridSearchCV,RandomizedSearchCV\n",
    "from sklearn.metrics import accuracy_score, confusion_matrix, classification_report,roc_curve,roc_auc_score,auc"
   ]
  },
  {
   "cell_type": "markdown",
   "id": "54358441",
   "metadata": {},
   "source": [
    "# 1.Problem Statement"
   ]
  },
  {
   "cell_type": "code",
   "execution_count": null,
   "id": "42b6083f",
   "metadata": {},
   "outputs": [],
   "source": [
    "predict when couple has to take divoced??"
   ]
  },
  {
   "cell_type": "markdown",
   "id": "a25649ea",
   "metadata": {},
   "source": [
    "# 2. Data Gathering"
   ]
  },
  {
   "cell_type": "code",
   "execution_count": null,
   "id": "7687d0a2",
   "metadata": {},
   "outputs": [],
   "source": [
    "## Divorce Reserach\n",
    "?? Questions are ranked on a scale of 1-5 with 1 being the lowest and 5 being the highest. The last category states if the \n",
    "couple has divorced.??\n",
    "\n",
    "*    If one of us apologizes when our discussion deteriorates, the discussion ends.\n",
    "*    I know we can ignore our differences, even if things get hard sometimes.\n",
    "*    When we need it, we can take our discussions with my spouse from the beginning and correct it.\n",
    "*    When I discuss with my spouse, to contact him will eventually work.\n",
    "*    The time I spent with my wife is special for us.\n",
    "*    we don't have time at home as partners.\n",
    "*    We are like two strangers who share the same environment at home rather than family.\n",
    "*    I enjoy our holidays with my wife.\n",
    "*    I enjoy traveling with my wife.\n",
    "*    Most of our goals are common to my spouse.\n",
    "*    I think that one day in the future, when I look back, I see that my spouse and I have been in harmony with each other.\n",
    "*    My spouse and I have similar values in terms of personal freedom.\n",
    "*    My spouse and I have similar sense of entertainment.\n",
    "*    Most of our goals for people (children, friends, etc.) are the same.\n",
    "*    Our dreams with my spouse are similar and harmonious.\n",
    "*    We're compatible with my spouse about what love should be.\n",
    "*    We share the same views about being happy in our life with my spouse\n",
    "*    My spouse and I have similar ideas about how marriage should be\n",
    "*    My spouse and I have similar ideas about how roles should be in marriage\n",
    "*    My spouse and I have similar values in trust.\n",
    "*    I know exactly what my wife likes.\n",
    "*    I know how my spouse wants to be taken care of when she/he sick.\n",
    "*    I know my spouse's favorite food.\n",
    "*    I can tell you what kind of stress my spouse is facing in her/his life.\n",
    "*    I have knowledge of my spouse's inner world.\n",
    "*    I know my spouse's basic anxieties.\n",
    "*    I know what my spouse's current sources of stress are.\n",
    "*    I know my spouse's hopes and wishes.\n",
    "*    I know my spouse very well.\n",
    "*    I know my spouse's friends and their social relationships.\n",
    "*    I feel aggressive when I argue with my spouse.\n",
    "*    When discussing with my spouse, I usually use expressions such as ‘you always’ or ‘you never’ .\n",
    "*    I can use negative statements about my spouse's personality during our discussions.\n",
    "*    I can use offensive expressions during our discussions.\n",
    "*    I can insult my spouse during our discussions.\n",
    "*    I can be humiliating when we discussions.\n",
    "*    My discussion with my spouse is not calm.\n",
    "*    I hate my spouse's way of open a subject.\n",
    "*    Our discussions often occur suddenly.\n",
    "*    We're just starting a discussion before I know what's going on.\n",
    "*    When I talk to my spouse about something, my calm suddenly breaks.\n",
    "*    When I argue with my spouse, ı only go out and I don't say a word.\n",
    "*    I mostly stay silent to calm the environment a little bit.\n",
    "*    Sometimes I think it's good for me to leave home for a while.\n",
    "*    I'd rather stay silent than discuss with my spouse.\n",
    "*    Even if I'm right in the discussion, I stay silent to hurt my spouse.\n",
    "*    When I discuss with my spouse, I stay silent because I am afraid of not being able to control my anger.\n",
    "*    I feel right in our discussions.\n",
    "*    I have nothing to do with what I've been accused of.\n",
    "*    I'm not actually the one who's guilty about what I'm accused of.\n",
    "*    I'm not the one who's wrong about problems at home.\n",
    "*    I wouldn't hesitate to tell my spouse about her/his inadequacy.\n",
    "*    When I discuss, I remind my spouse of her/his inadequacy.\n",
    "*    I'm not afraid to tell my spouse about her/his incompetence.\n",
    "*    Divorce Yes/No"
   ]
  },
  {
   "cell_type": "code",
   "execution_count": 2,
   "id": "b37d3ca3",
   "metadata": {},
   "outputs": [
    {
     "data": {
      "text/html": [
       "<div>\n",
       "<style scoped>\n",
       "    .dataframe tbody tr th:only-of-type {\n",
       "        vertical-align: middle;\n",
       "    }\n",
       "\n",
       "    .dataframe tbody tr th {\n",
       "        vertical-align: top;\n",
       "    }\n",
       "\n",
       "    .dataframe thead th {\n",
       "        text-align: right;\n",
       "    }\n",
       "</style>\n",
       "<table border=\"1\" class=\"dataframe\">\n",
       "  <thead>\n",
       "    <tr style=\"text-align: right;\">\n",
       "      <th></th>\n",
       "      <th>Sorry_end</th>\n",
       "      <th>Ignore_diff</th>\n",
       "      <th>begin_correct</th>\n",
       "      <th>Contact</th>\n",
       "      <th>Special_time</th>\n",
       "      <th>No_home_time</th>\n",
       "      <th>2_strangers</th>\n",
       "      <th>enjoy_holiday</th>\n",
       "      <th>enjoy_travel</th>\n",
       "      <th>common_goals</th>\n",
       "      <th>...</th>\n",
       "      <th>silence_for_harm</th>\n",
       "      <th>silence_fear_anger</th>\n",
       "      <th>I'm_right</th>\n",
       "      <th>accusations</th>\n",
       "      <th>I'm_not_guilty</th>\n",
       "      <th>I'm_not_wrong</th>\n",
       "      <th>no_hesitancy_inadequate</th>\n",
       "      <th>you're_inadequate</th>\n",
       "      <th>incompetence</th>\n",
       "      <th>Divorce_Y_N</th>\n",
       "    </tr>\n",
       "  </thead>\n",
       "  <tbody>\n",
       "    <tr>\n",
       "      <th>0</th>\n",
       "      <td>2</td>\n",
       "      <td>2</td>\n",
       "      <td>4</td>\n",
       "      <td>1</td>\n",
       "      <td>0</td>\n",
       "      <td>0</td>\n",
       "      <td>0</td>\n",
       "      <td>0</td>\n",
       "      <td>0</td>\n",
       "      <td>0</td>\n",
       "      <td>...</td>\n",
       "      <td>2</td>\n",
       "      <td>1</td>\n",
       "      <td>3</td>\n",
       "      <td>3</td>\n",
       "      <td>3</td>\n",
       "      <td>2</td>\n",
       "      <td>3</td>\n",
       "      <td>2</td>\n",
       "      <td>1</td>\n",
       "      <td>1</td>\n",
       "    </tr>\n",
       "    <tr>\n",
       "      <th>1</th>\n",
       "      <td>4</td>\n",
       "      <td>4</td>\n",
       "      <td>4</td>\n",
       "      <td>4</td>\n",
       "      <td>4</td>\n",
       "      <td>0</td>\n",
       "      <td>0</td>\n",
       "      <td>4</td>\n",
       "      <td>4</td>\n",
       "      <td>4</td>\n",
       "      <td>...</td>\n",
       "      <td>2</td>\n",
       "      <td>2</td>\n",
       "      <td>3</td>\n",
       "      <td>4</td>\n",
       "      <td>4</td>\n",
       "      <td>4</td>\n",
       "      <td>4</td>\n",
       "      <td>2</td>\n",
       "      <td>2</td>\n",
       "      <td>1</td>\n",
       "    </tr>\n",
       "    <tr>\n",
       "      <th>2</th>\n",
       "      <td>2</td>\n",
       "      <td>2</td>\n",
       "      <td>2</td>\n",
       "      <td>2</td>\n",
       "      <td>1</td>\n",
       "      <td>3</td>\n",
       "      <td>2</td>\n",
       "      <td>1</td>\n",
       "      <td>1</td>\n",
       "      <td>2</td>\n",
       "      <td>...</td>\n",
       "      <td>3</td>\n",
       "      <td>2</td>\n",
       "      <td>3</td>\n",
       "      <td>1</td>\n",
       "      <td>1</td>\n",
       "      <td>1</td>\n",
       "      <td>2</td>\n",
       "      <td>2</td>\n",
       "      <td>2</td>\n",
       "      <td>1</td>\n",
       "    </tr>\n",
       "    <tr>\n",
       "      <th>3</th>\n",
       "      <td>3</td>\n",
       "      <td>2</td>\n",
       "      <td>3</td>\n",
       "      <td>2</td>\n",
       "      <td>3</td>\n",
       "      <td>3</td>\n",
       "      <td>3</td>\n",
       "      <td>3</td>\n",
       "      <td>3</td>\n",
       "      <td>3</td>\n",
       "      <td>...</td>\n",
       "      <td>2</td>\n",
       "      <td>2</td>\n",
       "      <td>3</td>\n",
       "      <td>3</td>\n",
       "      <td>3</td>\n",
       "      <td>3</td>\n",
       "      <td>2</td>\n",
       "      <td>2</td>\n",
       "      <td>2</td>\n",
       "      <td>1</td>\n",
       "    </tr>\n",
       "    <tr>\n",
       "      <th>4</th>\n",
       "      <td>2</td>\n",
       "      <td>2</td>\n",
       "      <td>1</td>\n",
       "      <td>1</td>\n",
       "      <td>1</td>\n",
       "      <td>1</td>\n",
       "      <td>0</td>\n",
       "      <td>0</td>\n",
       "      <td>0</td>\n",
       "      <td>0</td>\n",
       "      <td>...</td>\n",
       "      <td>2</td>\n",
       "      <td>1</td>\n",
       "      <td>2</td>\n",
       "      <td>3</td>\n",
       "      <td>2</td>\n",
       "      <td>2</td>\n",
       "      <td>2</td>\n",
       "      <td>1</td>\n",
       "      <td>0</td>\n",
       "      <td>1</td>\n",
       "    </tr>\n",
       "    <tr>\n",
       "      <th>...</th>\n",
       "      <td>...</td>\n",
       "      <td>...</td>\n",
       "      <td>...</td>\n",
       "      <td>...</td>\n",
       "      <td>...</td>\n",
       "      <td>...</td>\n",
       "      <td>...</td>\n",
       "      <td>...</td>\n",
       "      <td>...</td>\n",
       "      <td>...</td>\n",
       "      <td>...</td>\n",
       "      <td>...</td>\n",
       "      <td>...</td>\n",
       "      <td>...</td>\n",
       "      <td>...</td>\n",
       "      <td>...</td>\n",
       "      <td>...</td>\n",
       "      <td>...</td>\n",
       "      <td>...</td>\n",
       "      <td>...</td>\n",
       "      <td>...</td>\n",
       "    </tr>\n",
       "    <tr>\n",
       "      <th>165</th>\n",
       "      <td>0</td>\n",
       "      <td>0</td>\n",
       "      <td>0</td>\n",
       "      <td>0</td>\n",
       "      <td>0</td>\n",
       "      <td>0</td>\n",
       "      <td>0</td>\n",
       "      <td>0</td>\n",
       "      <td>0</td>\n",
       "      <td>0</td>\n",
       "      <td>...</td>\n",
       "      <td>1</td>\n",
       "      <td>0</td>\n",
       "      <td>4</td>\n",
       "      <td>1</td>\n",
       "      <td>1</td>\n",
       "      <td>4</td>\n",
       "      <td>2</td>\n",
       "      <td>2</td>\n",
       "      <td>2</td>\n",
       "      <td>0</td>\n",
       "    </tr>\n",
       "    <tr>\n",
       "      <th>166</th>\n",
       "      <td>0</td>\n",
       "      <td>0</td>\n",
       "      <td>0</td>\n",
       "      <td>0</td>\n",
       "      <td>0</td>\n",
       "      <td>0</td>\n",
       "      <td>0</td>\n",
       "      <td>0</td>\n",
       "      <td>0</td>\n",
       "      <td>0</td>\n",
       "      <td>...</td>\n",
       "      <td>4</td>\n",
       "      <td>1</td>\n",
       "      <td>2</td>\n",
       "      <td>2</td>\n",
       "      <td>2</td>\n",
       "      <td>2</td>\n",
       "      <td>3</td>\n",
       "      <td>2</td>\n",
       "      <td>2</td>\n",
       "      <td>0</td>\n",
       "    </tr>\n",
       "    <tr>\n",
       "      <th>167</th>\n",
       "      <td>1</td>\n",
       "      <td>1</td>\n",
       "      <td>0</td>\n",
       "      <td>0</td>\n",
       "      <td>0</td>\n",
       "      <td>0</td>\n",
       "      <td>0</td>\n",
       "      <td>0</td>\n",
       "      <td>0</td>\n",
       "      <td>1</td>\n",
       "      <td>...</td>\n",
       "      <td>3</td>\n",
       "      <td>0</td>\n",
       "      <td>2</td>\n",
       "      <td>0</td>\n",
       "      <td>1</td>\n",
       "      <td>1</td>\n",
       "      <td>3</td>\n",
       "      <td>0</td>\n",
       "      <td>0</td>\n",
       "      <td>0</td>\n",
       "    </tr>\n",
       "    <tr>\n",
       "      <th>168</th>\n",
       "      <td>0</td>\n",
       "      <td>0</td>\n",
       "      <td>0</td>\n",
       "      <td>0</td>\n",
       "      <td>0</td>\n",
       "      <td>0</td>\n",
       "      <td>0</td>\n",
       "      <td>0</td>\n",
       "      <td>0</td>\n",
       "      <td>0</td>\n",
       "      <td>...</td>\n",
       "      <td>3</td>\n",
       "      <td>3</td>\n",
       "      <td>2</td>\n",
       "      <td>2</td>\n",
       "      <td>3</td>\n",
       "      <td>2</td>\n",
       "      <td>4</td>\n",
       "      <td>3</td>\n",
       "      <td>1</td>\n",
       "      <td>0</td>\n",
       "    </tr>\n",
       "    <tr>\n",
       "      <th>169</th>\n",
       "      <td>0</td>\n",
       "      <td>0</td>\n",
       "      <td>0</td>\n",
       "      <td>0</td>\n",
       "      <td>0</td>\n",
       "      <td>0</td>\n",
       "      <td>0</td>\n",
       "      <td>1</td>\n",
       "      <td>0</td>\n",
       "      <td>0</td>\n",
       "      <td>...</td>\n",
       "      <td>3</td>\n",
       "      <td>4</td>\n",
       "      <td>4</td>\n",
       "      <td>0</td>\n",
       "      <td>1</td>\n",
       "      <td>3</td>\n",
       "      <td>3</td>\n",
       "      <td>3</td>\n",
       "      <td>1</td>\n",
       "      <td>0</td>\n",
       "    </tr>\n",
       "  </tbody>\n",
       "</table>\n",
       "<p>170 rows × 55 columns</p>\n",
       "</div>"
      ],
      "text/plain": [
       "     Sorry_end  Ignore_diff  begin_correct  Contact  Special_time  \\\n",
       "0            2            2              4        1             0   \n",
       "1            4            4              4        4             4   \n",
       "2            2            2              2        2             1   \n",
       "3            3            2              3        2             3   \n",
       "4            2            2              1        1             1   \n",
       "..         ...          ...            ...      ...           ...   \n",
       "165          0            0              0        0             0   \n",
       "166          0            0              0        0             0   \n",
       "167          1            1              0        0             0   \n",
       "168          0            0              0        0             0   \n",
       "169          0            0              0        0             0   \n",
       "\n",
       "     No_home_time  2_strangers  enjoy_holiday  enjoy_travel  common_goals  \\\n",
       "0               0            0              0             0             0   \n",
       "1               0            0              4             4             4   \n",
       "2               3            2              1             1             2   \n",
       "3               3            3              3             3             3   \n",
       "4               1            0              0             0             0   \n",
       "..            ...          ...            ...           ...           ...   \n",
       "165             0            0              0             0             0   \n",
       "166             0            0              0             0             0   \n",
       "167             0            0              0             0             1   \n",
       "168             0            0              0             0             0   \n",
       "169             0            0              1             0             0   \n",
       "\n",
       "     ...  silence_for_harm  silence_fear_anger  I'm_right  accusations  \\\n",
       "0    ...                 2                   1          3            3   \n",
       "1    ...                 2                   2          3            4   \n",
       "2    ...                 3                   2          3            1   \n",
       "3    ...                 2                   2          3            3   \n",
       "4    ...                 2                   1          2            3   \n",
       "..   ...               ...                 ...        ...          ...   \n",
       "165  ...                 1                   0          4            1   \n",
       "166  ...                 4                   1          2            2   \n",
       "167  ...                 3                   0          2            0   \n",
       "168  ...                 3                   3          2            2   \n",
       "169  ...                 3                   4          4            0   \n",
       "\n",
       "     I'm_not_guilty  I'm_not_wrong  no_hesitancy_inadequate  \\\n",
       "0                 3              2                        3   \n",
       "1                 4              4                        4   \n",
       "2                 1              1                        2   \n",
       "3                 3              3                        2   \n",
       "4                 2              2                        2   \n",
       "..              ...            ...                      ...   \n",
       "165               1              4                        2   \n",
       "166               2              2                        3   \n",
       "167               1              1                        3   \n",
       "168               3              2                        4   \n",
       "169               1              3                        3   \n",
       "\n",
       "     you're_inadequate  incompetence  Divorce_Y_N  \n",
       "0                    2             1            1  \n",
       "1                    2             2            1  \n",
       "2                    2             2            1  \n",
       "3                    2             2            1  \n",
       "4                    1             0            1  \n",
       "..                 ...           ...          ...  \n",
       "165                  2             2            0  \n",
       "166                  2             2            0  \n",
       "167                  0             0            0  \n",
       "168                  3             1            0  \n",
       "169                  3             1            0  \n",
       "\n",
       "[170 rows x 55 columns]"
      ]
     },
     "execution_count": 2,
     "metadata": {},
     "output_type": "execute_result"
    }
   ],
   "source": [
    "df=pd.read_csv(r\"C:\\Users\\CHETAK\\Desktop\\daily class notes\\archive (5)\\divorce.csv\")\n",
    "df"
   ]
  },
  {
   "cell_type": "markdown",
   "id": "51f2c527",
   "metadata": {},
   "source": [
    "# 3. EDA"
   ]
  },
  {
   "cell_type": "code",
   "execution_count": 3,
   "id": "7d1eb797",
   "metadata": {},
   "outputs": [
    {
     "name": "stdout",
     "output_type": "stream",
     "text": [
      "<class 'pandas.core.frame.DataFrame'>\n",
      "RangeIndex: 170 entries, 0 to 169\n",
      "Data columns (total 55 columns):\n",
      " #   Column                         Non-Null Count  Dtype\n",
      "---  ------                         --------------  -----\n",
      " 0   Sorry_end                      170 non-null    int64\n",
      " 1   Ignore_diff                    170 non-null    int64\n",
      " 2   begin_correct                  170 non-null    int64\n",
      " 3   Contact                        170 non-null    int64\n",
      " 4   Special_time                   170 non-null    int64\n",
      " 5   No_home_time                   170 non-null    int64\n",
      " 6   2_strangers                    170 non-null    int64\n",
      " 7   enjoy_holiday                  170 non-null    int64\n",
      " 8   enjoy_travel                   170 non-null    int64\n",
      " 9   common_goals                   170 non-null    int64\n",
      " 10  harmony                        170 non-null    int64\n",
      " 11  freeom_value                   170 non-null    int64\n",
      " 12  entertain                      170 non-null    int64\n",
      " 13  people_goals                   170 non-null    int64\n",
      " 14  dreams                         170 non-null    int64\n",
      " 15  love                           170 non-null    int64\n",
      " 16  happy                          170 non-null    int64\n",
      " 17  marriage                       170 non-null    int64\n",
      " 18  roles                          170 non-null    int64\n",
      " 19  trust                          170 non-null    int64\n",
      " 20  likes                          170 non-null    int64\n",
      " 21  care_sick                      170 non-null    int64\n",
      " 22  fav_food                       170 non-null    int64\n",
      " 23  stresses                       170 non-null    int64\n",
      " 24  inner_world                    170 non-null    int64\n",
      " 25  anxieties                      170 non-null    int64\n",
      " 26  current_stress                 170 non-null    int64\n",
      " 27  hopes_wishes                   170 non-null    int64\n",
      " 28  know_well                      170 non-null    int64\n",
      " 29  friends_social                 170 non-null    int64\n",
      " 30  Aggro_argue                    170 non-null    int64\n",
      " 31  Always_never                   170 non-null    int64\n",
      " 32  negative_personality           170 non-null    int64\n",
      " 33  offensive_expressions          170 non-null    int64\n",
      " 34  insult                         170 non-null    int64\n",
      " 35  humiliate                      170 non-null    int64\n",
      " 36  not_calm                       170 non-null    int64\n",
      " 37  hate_subjects                  170 non-null    int64\n",
      " 38  sudden_discussion              170 non-null    int64\n",
      " 39  idk_what's_going_on            170 non-null    int64\n",
      " 40  calm_breaks                    170 non-null    int64\n",
      " 41  argue_then_leave               170 non-null    int64\n",
      " 42  silent_for_calm                170 non-null    int64\n",
      " 43  good_to_leave_home             170 non-null    int64\n",
      " 44  silence_instead_of_discussion  170 non-null    int64\n",
      " 45  silence_for_harm               170 non-null    int64\n",
      " 46  silence_fear_anger             170 non-null    int64\n",
      " 47  I'm_right                      170 non-null    int64\n",
      " 48  accusations                    170 non-null    int64\n",
      " 49  I'm_not_guilty                 170 non-null    int64\n",
      " 50  I'm_not_wrong                  170 non-null    int64\n",
      " 51  no_hesitancy_inadequate        170 non-null    int64\n",
      " 52  you're_inadequate              170 non-null    int64\n",
      " 53  incompetence                   170 non-null    int64\n",
      " 54  Divorce_Y_N                    170 non-null    int64\n",
      "dtypes: int64(55)\n",
      "memory usage: 73.2 KB\n"
     ]
    }
   ],
   "source": [
    "df.info()"
   ]
  },
  {
   "cell_type": "code",
   "execution_count": 4,
   "id": "27972b25",
   "metadata": {},
   "outputs": [
    {
     "data": {
      "text/html": [
       "<div>\n",
       "<style scoped>\n",
       "    .dataframe tbody tr th:only-of-type {\n",
       "        vertical-align: middle;\n",
       "    }\n",
       "\n",
       "    .dataframe tbody tr th {\n",
       "        vertical-align: top;\n",
       "    }\n",
       "\n",
       "    .dataframe thead th {\n",
       "        text-align: right;\n",
       "    }\n",
       "</style>\n",
       "<table border=\"1\" class=\"dataframe\">\n",
       "  <thead>\n",
       "    <tr style=\"text-align: right;\">\n",
       "      <th></th>\n",
       "      <th>Sorry_end</th>\n",
       "      <th>Ignore_diff</th>\n",
       "      <th>begin_correct</th>\n",
       "      <th>Contact</th>\n",
       "      <th>Special_time</th>\n",
       "      <th>No_home_time</th>\n",
       "      <th>2_strangers</th>\n",
       "      <th>enjoy_holiday</th>\n",
       "      <th>enjoy_travel</th>\n",
       "      <th>common_goals</th>\n",
       "      <th>...</th>\n",
       "      <th>silence_for_harm</th>\n",
       "      <th>silence_fear_anger</th>\n",
       "      <th>I'm_right</th>\n",
       "      <th>accusations</th>\n",
       "      <th>I'm_not_guilty</th>\n",
       "      <th>I'm_not_wrong</th>\n",
       "      <th>no_hesitancy_inadequate</th>\n",
       "      <th>you're_inadequate</th>\n",
       "      <th>incompetence</th>\n",
       "      <th>Divorce_Y_N</th>\n",
       "    </tr>\n",
       "  </thead>\n",
       "  <tbody>\n",
       "    <tr>\n",
       "      <th>count</th>\n",
       "      <td>170.000000</td>\n",
       "      <td>170.000000</td>\n",
       "      <td>170.000000</td>\n",
       "      <td>170.000000</td>\n",
       "      <td>170.000000</td>\n",
       "      <td>170.000000</td>\n",
       "      <td>170.000000</td>\n",
       "      <td>170.000000</td>\n",
       "      <td>170.000000</td>\n",
       "      <td>170.000000</td>\n",
       "      <td>...</td>\n",
       "      <td>170.000000</td>\n",
       "      <td>170.000000</td>\n",
       "      <td>170.000000</td>\n",
       "      <td>170.000000</td>\n",
       "      <td>170.000000</td>\n",
       "      <td>170.000000</td>\n",
       "      <td>170.000000</td>\n",
       "      <td>170.000000</td>\n",
       "      <td>170.000000</td>\n",
       "      <td>170.000000</td>\n",
       "    </tr>\n",
       "    <tr>\n",
       "      <th>mean</th>\n",
       "      <td>1.776471</td>\n",
       "      <td>1.652941</td>\n",
       "      <td>1.764706</td>\n",
       "      <td>1.482353</td>\n",
       "      <td>1.541176</td>\n",
       "      <td>0.747059</td>\n",
       "      <td>0.494118</td>\n",
       "      <td>1.452941</td>\n",
       "      <td>1.458824</td>\n",
       "      <td>1.576471</td>\n",
       "      <td>...</td>\n",
       "      <td>2.552941</td>\n",
       "      <td>2.270588</td>\n",
       "      <td>2.741176</td>\n",
       "      <td>2.382353</td>\n",
       "      <td>2.429412</td>\n",
       "      <td>2.476471</td>\n",
       "      <td>2.517647</td>\n",
       "      <td>2.241176</td>\n",
       "      <td>2.011765</td>\n",
       "      <td>0.494118</td>\n",
       "    </tr>\n",
       "    <tr>\n",
       "      <th>std</th>\n",
       "      <td>1.627257</td>\n",
       "      <td>1.468654</td>\n",
       "      <td>1.415444</td>\n",
       "      <td>1.504327</td>\n",
       "      <td>1.632169</td>\n",
       "      <td>0.904046</td>\n",
       "      <td>0.898698</td>\n",
       "      <td>1.546371</td>\n",
       "      <td>1.557976</td>\n",
       "      <td>1.421529</td>\n",
       "      <td>...</td>\n",
       "      <td>1.371786</td>\n",
       "      <td>1.586841</td>\n",
       "      <td>1.137348</td>\n",
       "      <td>1.511587</td>\n",
       "      <td>1.405090</td>\n",
       "      <td>1.260238</td>\n",
       "      <td>1.476537</td>\n",
       "      <td>1.505634</td>\n",
       "      <td>1.667611</td>\n",
       "      <td>0.501442</td>\n",
       "    </tr>\n",
       "    <tr>\n",
       "      <th>min</th>\n",
       "      <td>0.000000</td>\n",
       "      <td>0.000000</td>\n",
       "      <td>0.000000</td>\n",
       "      <td>0.000000</td>\n",
       "      <td>0.000000</td>\n",
       "      <td>0.000000</td>\n",
       "      <td>0.000000</td>\n",
       "      <td>0.000000</td>\n",
       "      <td>0.000000</td>\n",
       "      <td>0.000000</td>\n",
       "      <td>...</td>\n",
       "      <td>0.000000</td>\n",
       "      <td>0.000000</td>\n",
       "      <td>0.000000</td>\n",
       "      <td>0.000000</td>\n",
       "      <td>0.000000</td>\n",
       "      <td>0.000000</td>\n",
       "      <td>0.000000</td>\n",
       "      <td>0.000000</td>\n",
       "      <td>0.000000</td>\n",
       "      <td>0.000000</td>\n",
       "    </tr>\n",
       "    <tr>\n",
       "      <th>25%</th>\n",
       "      <td>0.000000</td>\n",
       "      <td>0.000000</td>\n",
       "      <td>0.000000</td>\n",
       "      <td>0.000000</td>\n",
       "      <td>0.000000</td>\n",
       "      <td>0.000000</td>\n",
       "      <td>0.000000</td>\n",
       "      <td>0.000000</td>\n",
       "      <td>0.000000</td>\n",
       "      <td>0.000000</td>\n",
       "      <td>...</td>\n",
       "      <td>2.000000</td>\n",
       "      <td>1.000000</td>\n",
       "      <td>2.000000</td>\n",
       "      <td>1.000000</td>\n",
       "      <td>1.000000</td>\n",
       "      <td>2.000000</td>\n",
       "      <td>1.000000</td>\n",
       "      <td>1.000000</td>\n",
       "      <td>0.000000</td>\n",
       "      <td>0.000000</td>\n",
       "    </tr>\n",
       "    <tr>\n",
       "      <th>50%</th>\n",
       "      <td>2.000000</td>\n",
       "      <td>2.000000</td>\n",
       "      <td>2.000000</td>\n",
       "      <td>1.000000</td>\n",
       "      <td>1.000000</td>\n",
       "      <td>0.000000</td>\n",
       "      <td>0.000000</td>\n",
       "      <td>1.000000</td>\n",
       "      <td>1.000000</td>\n",
       "      <td>2.000000</td>\n",
       "      <td>...</td>\n",
       "      <td>3.000000</td>\n",
       "      <td>2.000000</td>\n",
       "      <td>3.000000</td>\n",
       "      <td>3.000000</td>\n",
       "      <td>2.000000</td>\n",
       "      <td>3.000000</td>\n",
       "      <td>3.000000</td>\n",
       "      <td>2.000000</td>\n",
       "      <td>2.000000</td>\n",
       "      <td>0.000000</td>\n",
       "    </tr>\n",
       "    <tr>\n",
       "      <th>75%</th>\n",
       "      <td>3.000000</td>\n",
       "      <td>3.000000</td>\n",
       "      <td>3.000000</td>\n",
       "      <td>3.000000</td>\n",
       "      <td>3.000000</td>\n",
       "      <td>1.000000</td>\n",
       "      <td>1.000000</td>\n",
       "      <td>3.000000</td>\n",
       "      <td>3.000000</td>\n",
       "      <td>3.000000</td>\n",
       "      <td>...</td>\n",
       "      <td>4.000000</td>\n",
       "      <td>4.000000</td>\n",
       "      <td>4.000000</td>\n",
       "      <td>4.000000</td>\n",
       "      <td>4.000000</td>\n",
       "      <td>4.000000</td>\n",
       "      <td>4.000000</td>\n",
       "      <td>4.000000</td>\n",
       "      <td>4.000000</td>\n",
       "      <td>1.000000</td>\n",
       "    </tr>\n",
       "    <tr>\n",
       "      <th>max</th>\n",
       "      <td>4.000000</td>\n",
       "      <td>4.000000</td>\n",
       "      <td>4.000000</td>\n",
       "      <td>4.000000</td>\n",
       "      <td>4.000000</td>\n",
       "      <td>4.000000</td>\n",
       "      <td>4.000000</td>\n",
       "      <td>4.000000</td>\n",
       "      <td>4.000000</td>\n",
       "      <td>4.000000</td>\n",
       "      <td>...</td>\n",
       "      <td>4.000000</td>\n",
       "      <td>4.000000</td>\n",
       "      <td>4.000000</td>\n",
       "      <td>4.000000</td>\n",
       "      <td>4.000000</td>\n",
       "      <td>4.000000</td>\n",
       "      <td>4.000000</td>\n",
       "      <td>4.000000</td>\n",
       "      <td>4.000000</td>\n",
       "      <td>1.000000</td>\n",
       "    </tr>\n",
       "  </tbody>\n",
       "</table>\n",
       "<p>8 rows × 55 columns</p>\n",
       "</div>"
      ],
      "text/plain": [
       "        Sorry_end  Ignore_diff  begin_correct     Contact  Special_time  \\\n",
       "count  170.000000   170.000000     170.000000  170.000000    170.000000   \n",
       "mean     1.776471     1.652941       1.764706    1.482353      1.541176   \n",
       "std      1.627257     1.468654       1.415444    1.504327      1.632169   \n",
       "min      0.000000     0.000000       0.000000    0.000000      0.000000   \n",
       "25%      0.000000     0.000000       0.000000    0.000000      0.000000   \n",
       "50%      2.000000     2.000000       2.000000    1.000000      1.000000   \n",
       "75%      3.000000     3.000000       3.000000    3.000000      3.000000   \n",
       "max      4.000000     4.000000       4.000000    4.000000      4.000000   \n",
       "\n",
       "       No_home_time  2_strangers  enjoy_holiday  enjoy_travel  common_goals  \\\n",
       "count    170.000000   170.000000     170.000000    170.000000    170.000000   \n",
       "mean       0.747059     0.494118       1.452941      1.458824      1.576471   \n",
       "std        0.904046     0.898698       1.546371      1.557976      1.421529   \n",
       "min        0.000000     0.000000       0.000000      0.000000      0.000000   \n",
       "25%        0.000000     0.000000       0.000000      0.000000      0.000000   \n",
       "50%        0.000000     0.000000       1.000000      1.000000      2.000000   \n",
       "75%        1.000000     1.000000       3.000000      3.000000      3.000000   \n",
       "max        4.000000     4.000000       4.000000      4.000000      4.000000   \n",
       "\n",
       "       ...  silence_for_harm  silence_fear_anger   I'm_right  accusations  \\\n",
       "count  ...        170.000000          170.000000  170.000000   170.000000   \n",
       "mean   ...          2.552941            2.270588    2.741176     2.382353   \n",
       "std    ...          1.371786            1.586841    1.137348     1.511587   \n",
       "min    ...          0.000000            0.000000    0.000000     0.000000   \n",
       "25%    ...          2.000000            1.000000    2.000000     1.000000   \n",
       "50%    ...          3.000000            2.000000    3.000000     3.000000   \n",
       "75%    ...          4.000000            4.000000    4.000000     4.000000   \n",
       "max    ...          4.000000            4.000000    4.000000     4.000000   \n",
       "\n",
       "       I'm_not_guilty  I'm_not_wrong  no_hesitancy_inadequate  \\\n",
       "count      170.000000     170.000000               170.000000   \n",
       "mean         2.429412       2.476471                 2.517647   \n",
       "std          1.405090       1.260238                 1.476537   \n",
       "min          0.000000       0.000000                 0.000000   \n",
       "25%          1.000000       2.000000                 1.000000   \n",
       "50%          2.000000       3.000000                 3.000000   \n",
       "75%          4.000000       4.000000                 4.000000   \n",
       "max          4.000000       4.000000                 4.000000   \n",
       "\n",
       "       you're_inadequate  incompetence  Divorce_Y_N  \n",
       "count         170.000000    170.000000   170.000000  \n",
       "mean            2.241176      2.011765     0.494118  \n",
       "std             1.505634      1.667611     0.501442  \n",
       "min             0.000000      0.000000     0.000000  \n",
       "25%             1.000000      0.000000     0.000000  \n",
       "50%             2.000000      2.000000     0.000000  \n",
       "75%             4.000000      4.000000     1.000000  \n",
       "max             4.000000      4.000000     1.000000  \n",
       "\n",
       "[8 rows x 55 columns]"
      ]
     },
     "execution_count": 4,
     "metadata": {},
     "output_type": "execute_result"
    }
   ],
   "source": [
    "df.describe()"
   ]
  },
  {
   "cell_type": "code",
   "execution_count": 5,
   "id": "72c8b098",
   "metadata": {},
   "outputs": [
    {
     "data": {
      "text/plain": [
       "(170, 55)"
      ]
     },
     "execution_count": 5,
     "metadata": {},
     "output_type": "execute_result"
    }
   ],
   "source": [
    "df.shape"
   ]
  },
  {
   "cell_type": "code",
   "execution_count": 8,
   "id": "d4442fc9",
   "metadata": {},
   "outputs": [
    {
     "data": {
      "text/plain": [
       "170"
      ]
     },
     "execution_count": 8,
     "metadata": {},
     "output_type": "execute_result"
    }
   ],
   "source": [
    "df.value_counts().sum()"
   ]
  },
  {
   "cell_type": "code",
   "execution_count": 9,
   "id": "41ebd5b8",
   "metadata": {},
   "outputs": [
    {
     "data": {
      "text/plain": [
       "Sorry_end                        0\n",
       "Ignore_diff                      0\n",
       "begin_correct                    0\n",
       "Contact                          0\n",
       "Special_time                     0\n",
       "No_home_time                     0\n",
       "2_strangers                      0\n",
       "enjoy_holiday                    0\n",
       "enjoy_travel                     0\n",
       "common_goals                     0\n",
       "harmony                          0\n",
       "freeom_value                     0\n",
       "entertain                        0\n",
       "people_goals                     0\n",
       "dreams                           0\n",
       "love                             0\n",
       "happy                            0\n",
       "marriage                         0\n",
       "roles                            0\n",
       "trust                            0\n",
       "likes                            0\n",
       "care_sick                        0\n",
       "fav_food                         0\n",
       "stresses                         0\n",
       "inner_world                      0\n",
       "anxieties                        0\n",
       "current_stress                   0\n",
       "hopes_wishes                     0\n",
       "know_well                        0\n",
       "friends_social                   0\n",
       "Aggro_argue                      0\n",
       "Always_never                     0\n",
       "negative_personality             0\n",
       "offensive_expressions            0\n",
       "insult                           0\n",
       "humiliate                        0\n",
       "not_calm                         0\n",
       "hate_subjects                    0\n",
       "sudden_discussion                0\n",
       "idk_what's_going_on              0\n",
       "calm_breaks                      0\n",
       "argue_then_leave                 0\n",
       "silent_for_calm                  0\n",
       "good_to_leave_home               0\n",
       "silence_instead_of_discussion    0\n",
       "silence_for_harm                 0\n",
       "silence_fear_anger               0\n",
       "I'm_right                        0\n",
       "accusations                      0\n",
       "I'm_not_guilty                   0\n",
       "I'm_not_wrong                    0\n",
       "no_hesitancy_inadequate          0\n",
       "you're_inadequate                0\n",
       "incompetence                     0\n",
       "Divorce_Y_N                      0\n",
       "dtype: int64"
      ]
     },
     "execution_count": 9,
     "metadata": {},
     "output_type": "execute_result"
    }
   ],
   "source": [
    "df.isna().sum()"
   ]
  },
  {
   "cell_type": "code",
   "execution_count": 10,
   "id": "9e957cc3",
   "metadata": {},
   "outputs": [],
   "source": [
    "# there is no null values and all data is in numeric so we can directly train our model"
   ]
  },
  {
   "cell_type": "code",
   "execution_count": null,
   "id": "e364fdd3",
   "metadata": {},
   "outputs": [],
   "source": [
    "4. Feature engg\n",
    "5. Feature selection"
   ]
  },
  {
   "cell_type": "markdown",
   "id": "5ec1473d",
   "metadata": {},
   "source": [
    "# 6. Model Trannig"
   ]
  },
  {
   "cell_type": "code",
   "execution_count": 11,
   "id": "2e25f6f0",
   "metadata": {},
   "outputs": [],
   "source": [
    "y=df['Divorce_Y_N']\n",
    "x=df.drop('Divorce_Y_N',axis=1)"
   ]
  },
  {
   "cell_type": "code",
   "execution_count": 12,
   "id": "a7e1974d",
   "metadata": {},
   "outputs": [],
   "source": [
    "x_train, x_test, y_train, y_test = train_test_split(x, y, test_size=0.3,  random_state=42)\n"
   ]
  },
  {
   "cell_type": "code",
   "execution_count": 14,
   "id": "e8e77daf",
   "metadata": {},
   "outputs": [],
   "source": [
    "rfm = RandomForestClassifier()\n"
   ]
  },
  {
   "cell_type": "code",
   "execution_count": 15,
   "id": "93c49b6b",
   "metadata": {},
   "outputs": [
    {
     "data": {
      "text/plain": [
       "RandomForestClassifier()"
      ]
     },
     "execution_count": 15,
     "metadata": {},
     "output_type": "execute_result"
    }
   ],
   "source": [
    "rfm.fit(x_train,y_train)"
   ]
  },
  {
   "cell_type": "code",
   "execution_count": 16,
   "id": "d1b63d17",
   "metadata": {},
   "outputs": [
    {
     "data": {
      "text/plain": [
       "array([0, 1, 0, 1, 0, 0, 0, 1, 0, 1, 1, 0, 0, 1, 1, 0, 1, 0, 1, 0, 1, 1,\n",
       "       1, 1, 1, 0, 1, 0, 1, 1, 1, 1, 0, 0, 1, 0, 1, 0, 0, 0, 0, 0, 1, 0,\n",
       "       0, 0, 1, 1, 0, 1, 0], dtype=int64)"
      ]
     },
     "execution_count": 16,
     "metadata": {},
     "output_type": "execute_result"
    }
   ],
   "source": [
    "y_pred=rfm.predict(x_test)\n",
    "y_pred"
   ]
  },
  {
   "cell_type": "code",
   "execution_count": 17,
   "id": "147fe655",
   "metadata": {},
   "outputs": [
    {
     "data": {
      "text/plain": [
       "139    0\n",
       "30     1\n",
       "119    0\n",
       "29     1\n",
       "144    0\n",
       "163    0\n",
       "166    0\n",
       "51     1\n",
       "105    0\n",
       "60     1\n",
       "15     1\n",
       "158    0\n",
       "135    0\n",
       "45     1\n",
       "68     1\n",
       "85     0\n",
       "24     1\n",
       "109    0\n",
       "75     1\n",
       "108    0\n",
       "19     1\n",
       "16     1\n",
       "31     1\n",
       "18     1\n",
       "12     1\n",
       "9      1\n",
       "82     1\n",
       "98     0\n",
       "76     1\n",
       "55     1\n",
       "42     1\n",
       "56     1\n",
       "150    0\n",
       "111    0\n",
       "69     1\n",
       "138    0\n",
       "2      1\n",
       "93     0\n",
       "136    0\n",
       "156    0\n",
       "90     0\n",
       "114    0\n",
       "26     1\n",
       "146    0\n",
       "137    0\n",
       "97     0\n",
       "65     1\n",
       "36     1\n",
       "126    0\n",
       "22     1\n",
       "101    0\n",
       "Name: Divorce_Y_N, dtype: int64"
      ]
     },
     "execution_count": 17,
     "metadata": {},
     "output_type": "execute_result"
    }
   ],
   "source": [
    "y_test"
   ]
  },
  {
   "cell_type": "code",
   "execution_count": 21,
   "id": "b7572a36",
   "metadata": {},
   "outputs": [
    {
     "data": {
      "text/plain": [
       "1.0"
      ]
     },
     "execution_count": 21,
     "metadata": {},
     "output_type": "execute_result"
    }
   ],
   "source": [
    "rfm.score(x_train,y_train) \n",
    "\n"
   ]
  },
  {
   "cell_type": "code",
   "execution_count": 22,
   "id": "abb53345",
   "metadata": {},
   "outputs": [
    {
     "data": {
      "text/plain": [
       "0.9803921568627451"
      ]
     },
     "execution_count": 22,
     "metadata": {},
     "output_type": "execute_result"
    }
   ],
   "source": [
    "rfm.score(x_test,y_test)"
   ]
  },
  {
   "cell_type": "markdown",
   "id": "39dc4c3c",
   "metadata": {},
   "source": [
    "# 7. Model Evalution"
   ]
  },
  {
   "cell_type": "markdown",
   "id": "d7bc5a3e",
   "metadata": {},
   "source": [
    "#### Test Data"
   ]
  },
  {
   "cell_type": "code",
   "execution_count": 23,
   "id": "f46cc934",
   "metadata": {},
   "outputs": [
    {
     "name": "stdout",
     "output_type": "stream",
     "text": [
      "ACC = 0.9803921568627451\n",
      "\n",
      "[[25  0]\n",
      " [ 1 25]]\n",
      "\n",
      "              precision    recall  f1-score   support\n",
      "\n",
      "           0       0.96      1.00      0.98        25\n",
      "           1       1.00      0.96      0.98        26\n",
      "\n",
      "    accuracy                           0.98        51\n",
      "   macro avg       0.98      0.98      0.98        51\n",
      "weighted avg       0.98      0.98      0.98        51\n",
      "\n"
     ]
    }
   ],
   "source": [
    "\n",
    "\n",
    "y_pred = rfm.predict(x_test)\n",
    "\n",
    "acc = accuracy_score(y_test,y_pred)\n",
    "print(\"ACC =\",acc)\n",
    "print()\n",
    "\n",
    "cnf = confusion_matrix(y_test,y_pred)\n",
    "print(cnf)\n",
    "\n",
    "clf = classification_report(y_test,y_pred)\n",
    "print()\n",
    "print(clf)"
   ]
  },
  {
   "cell_type": "markdown",
   "id": "e3a3cc65",
   "metadata": {},
   "source": [
    "#### Train Data"
   ]
  },
  {
   "cell_type": "code",
   "execution_count": 24,
   "id": "5185896c",
   "metadata": {},
   "outputs": [
    {
     "name": "stdout",
     "output_type": "stream",
     "text": [
      "ACC = 1.0\n",
      "\n",
      "[[61  0]\n",
      " [ 0 58]]\n",
      "\n",
      "              precision    recall  f1-score   support\n",
      "\n",
      "           0       1.00      1.00      1.00        61\n",
      "           1       1.00      1.00      1.00        58\n",
      "\n",
      "    accuracy                           1.00       119\n",
      "   macro avg       1.00      1.00      1.00       119\n",
      "weighted avg       1.00      1.00      1.00       119\n",
      "\n"
     ]
    }
   ],
   "source": [
    "\n",
    "\n",
    "y_pred_train = rfm.predict(x_train)\n",
    "\n",
    "acc = accuracy_score(y_train,y_pred_train)\n",
    "print(\"ACC =\",acc)\n",
    "print()\n",
    "\n",
    "cnf = confusion_matrix(y_train,y_pred_train)\n",
    "print(cnf)\n",
    "\n",
    "clf = classification_report(y_train,y_pred_train)\n",
    "print()\n",
    "print(clf)"
   ]
  },
  {
   "cell_type": "code",
   "execution_count": 25,
   "id": "5393aa39",
   "metadata": {},
   "outputs": [],
   "source": [
    "# tranning data gives 100% acc ,i.e. overfit so we have reduce little acc by hyperpara tunning"
   ]
  },
  {
   "cell_type": "markdown",
   "id": "c1f50596",
   "metadata": {},
   "source": [
    "### Hyperparameter Tunning"
   ]
  },
  {
   "cell_type": "code",
   "execution_count": 30,
   "id": "e24a3b01",
   "metadata": {},
   "outputs": [
    {
     "data": {
      "text/plain": [
       "RandomizedSearchCV(cv=5, estimator=RandomForestClassifier(),\n",
       "                   param_distributions={'criterion': ['gini', 'entropy'],\n",
       "                                        'max_depth': array([ 2,  3,  4,  5,  6,  7,  8,  9, 10, 11]),\n",
       "                                        'min_samples_leaf': array([1, 2, 3, 4, 5, 6, 7]),\n",
       "                                        'min_samples_split': array([ 2,  3,  4,  5,  6,  7,  8,  9, 10, 11, 12, 13, 14, 15, 16, 17, 18,\n",
       "       19]),\n",
       "                                        'n_estimators': array([ 10,  20,  30,  40,  50,  60,  70,  80,  90, 100, 110, 120, 130,\n",
       "       140])})"
      ]
     },
     "execution_count": 30,
     "metadata": {},
     "output_type": "execute_result"
    }
   ],
   "source": [
    "rf_hyp_model = RandomForestClassifier() \n",
    "hyp = {'n_estimators': np.arange(10,150,10),\n",
    "        'criterion': ['gini','entropy'],\n",
    "    'max_depth': np.arange(2,12),\n",
    "    'min_samples_split': np.arange(2,20),\n",
    "    'min_samples_leaf': np.arange(1,8)\n",
    "}\n",
    "\n",
    "rscv = RandomizedSearchCV(rf_hyp_model,hyp, cv= 5)\n",
    "rscv.fit(x_train,y_train)"
   ]
  },
  {
   "cell_type": "code",
   "execution_count": 29,
   "id": "8f8ed39f",
   "metadata": {},
   "outputs": [
    {
     "data": {
      "text/plain": [
       "RandomForestClassifier(criterion='entropy', max_depth=10, min_samples_leaf=5,\n",
       "                       n_estimators=60)"
      ]
     },
     "execution_count": 29,
     "metadata": {},
     "output_type": "execute_result"
    }
   ],
   "source": [
    "rscv.best_estimator_"
   ]
  },
  {
   "cell_type": "code",
   "execution_count": 31,
   "id": "32e1d62e",
   "metadata": {},
   "outputs": [
    {
     "data": {
      "text/plain": [
       "RandomForestClassifier(criterion='entropy', max_depth=10, min_samples_leaf=5,\n",
       "                       n_estimators=60)"
      ]
     },
     "execution_count": 31,
     "metadata": {},
     "output_type": "execute_result"
    }
   ],
   "source": [
    "rf_model = RandomForestClassifier(criterion='entropy', max_depth=10, min_samples_leaf=5,\n",
    "                       n_estimators=60)\n",
    "rf_model.fit(x_train,y_train)"
   ]
  },
  {
   "cell_type": "markdown",
   "id": "55e2b817",
   "metadata": {},
   "source": [
    "### Model Evalution After Hyperparameter Tunning"
   ]
  },
  {
   "cell_type": "code",
   "execution_count": 32,
   "id": "02e9987c",
   "metadata": {},
   "outputs": [
    {
     "name": "stdout",
     "output_type": "stream",
     "text": [
      "ACC = 0.9803921568627451\n",
      "\n",
      "[[25  0]\n",
      " [ 1 25]]\n",
      "\n",
      "              precision    recall  f1-score   support\n",
      "\n",
      "           0       0.96      1.00      0.98        25\n",
      "           1       1.00      0.96      0.98        26\n",
      "\n",
      "    accuracy                           0.98        51\n",
      "   macro avg       0.98      0.98      0.98        51\n",
      "weighted avg       0.98      0.98      0.98        51\n",
      "\n"
     ]
    }
   ],
   "source": [
    "### Test Data \n",
    "\n",
    "y_pred = rf_model.predict(x_test)\n",
    "\n",
    "acc = accuracy_score(y_test,y_pred)\n",
    "print(\"ACC =\",acc)\n",
    "print()\n",
    "\n",
    "cnf = confusion_matrix(y_test,y_pred)\n",
    "print(cnf)\n",
    "\n",
    "clf = classification_report(y_test,y_pred)\n",
    "print()\n",
    "print(clf)"
   ]
  },
  {
   "cell_type": "code",
   "execution_count": 33,
   "id": "d2e258a3",
   "metadata": {},
   "outputs": [
    {
     "name": "stdout",
     "output_type": "stream",
     "text": [
      "ACC = 0.9747899159663865\n",
      "\n",
      "[[61  0]\n",
      " [ 3 55]]\n",
      "\n",
      "              precision    recall  f1-score   support\n",
      "\n",
      "           0       0.95      1.00      0.98        61\n",
      "           1       1.00      0.95      0.97        58\n",
      "\n",
      "    accuracy                           0.97       119\n",
      "   macro avg       0.98      0.97      0.97       119\n",
      "weighted avg       0.98      0.97      0.97       119\n",
      "\n"
     ]
    }
   ],
   "source": [
    "### train Data \n",
    "\n",
    "y_pred = rf_model.predict(x_train)\n",
    "\n",
    "acc = accuracy_score(y_train,y_pred)\n",
    "print(\"ACC =\",acc)\n",
    "print()\n",
    "\n",
    "cnf = confusion_matrix(y_train,y_pred)\n",
    "print(cnf)\n",
    "\n",
    "clf = classification_report(y_train,y_pred)\n",
    "print()\n",
    "print(clf)"
   ]
  },
  {
   "cell_type": "code",
   "execution_count": null,
   "id": "7fac7ce2",
   "metadata": {},
   "outputs": [],
   "source": [
    "now we got,\n",
    "testing acc >> 98%\n",
    "trainning acc >> 97%\n",
    "expected acc >> 97%\n",
    "our model is,\n",
    "-----GENERLISE MODEL----"
   ]
  },
  {
   "cell_type": "markdown",
   "id": "7efdaf8c",
   "metadata": {},
   "source": [
    "#### Feature Importance"
   ]
  },
  {
   "cell_type": "code",
   "execution_count": 34,
   "id": "c44d1360",
   "metadata": {},
   "outputs": [
    {
     "data": {
      "text/plain": [
       "array([2.25634466e-03, 3.32792598e-03, 4.68262179e-04, 1.69002916e-02,\n",
       "       5.02738021e-03, 0.00000000e+00, 0.00000000e+00, 0.00000000e+00,\n",
       "       1.50776214e-02, 0.00000000e+00, 3.19170200e-02, 4.74019584e-02,\n",
       "       6.64739419e-04, 1.89041704e-03, 1.63854147e-02, 8.22396078e-02,\n",
       "       8.16550652e-02, 1.16266330e-01, 6.81901362e-02, 7.78119720e-02,\n",
       "       1.29213512e-02, 0.00000000e+00, 0.00000000e+00, 0.00000000e+00,\n",
       "       1.53960765e-02, 4.63371003e-02, 1.58564629e-02, 1.60019272e-02,\n",
       "       2.84225356e-02, 3.08048770e-02, 4.27897238e-04, 0.00000000e+00,\n",
       "       6.92433176e-04, 1.18017076e-03, 1.07575394e-03, 6.59132356e-02,\n",
       "       1.69983552e-02, 8.21044015e-02, 3.48359404e-03, 4.95025171e-02,\n",
       "       1.81093938e-02, 4.83550233e-04, 0.00000000e+00, 1.54037650e-02,\n",
       "       4.91248731e-04, 0.00000000e+00, 3.92198921e-04, 4.50137741e-04,\n",
       "       5.44486627e-03, 2.26220752e-03, 5.50290375e-04, 5.58651025e-04,\n",
       "       1.16618342e-03, 8.83312853e-05])"
      ]
     },
     "execution_count": 34,
     "metadata": {},
     "output_type": "execute_result"
    }
   ],
   "source": [
    "rf_model.feature_importances_"
   ]
  },
  {
   "cell_type": "code",
   "execution_count": 35,
   "id": "58577bfb",
   "metadata": {},
   "outputs": [],
   "source": [
    "# we can drop unwatned features but now our model is perfect so we dont have do that"
   ]
  },
  {
   "cell_type": "markdown",
   "id": "35d4c458",
   "metadata": {},
   "source": [
    "### Fpr, Tpr, Thresh ,roc_curve"
   ]
  },
  {
   "cell_type": "code",
   "execution_count": 36,
   "id": "c18ec8b9",
   "metadata": {},
   "outputs": [
    {
     "data": {
      "text/plain": [
       "array([[0.90654346, 0.09345654],\n",
       "       [0.        , 1.        ],\n",
       "       [0.94027098, 0.05972902],\n",
       "       [0.        , 1.        ],\n",
       "       [0.79253307, 0.20746693],\n",
       "       [0.79338624, 0.20661376],\n",
       "       [0.90813076, 0.09186924],\n",
       "       [0.        , 1.        ],\n",
       "       [0.9666804 , 0.0333196 ],\n",
       "       [0.        , 1.        ],\n",
       "       [0.        , 1.        ],\n",
       "       [0.90804335, 0.09195665],\n",
       "       [0.9869006 , 0.0130994 ],\n",
       "       [0.        , 1.        ],\n",
       "       [0.        , 1.        ],\n",
       "       [0.99814815, 0.00185185],\n",
       "       [0.        , 1.        ],\n",
       "       [0.99047203, 0.00952797],\n",
       "       [0.20136091, 0.79863909],\n",
       "       [0.89848129, 0.10151871],\n",
       "       [0.        , 1.        ],\n",
       "       [0.        , 1.        ],\n",
       "       [0.        , 1.        ],\n",
       "       [0.        , 1.        ],\n",
       "       [0.        , 1.        ],\n",
       "       [0.72658924, 0.27341076],\n",
       "       [0.03333333, 0.96666667],\n",
       "       [0.99178613, 0.00821387],\n",
       "       [0.01875   , 0.98125   ],\n",
       "       [0.        , 1.        ],\n",
       "       [0.        , 1.        ],\n",
       "       [0.        , 1.        ],\n",
       "       [0.98696775, 0.01303225],\n",
       "       [0.95235117, 0.04764883],\n",
       "       [0.23588513, 0.76411487],\n",
       "       [0.99054834, 0.00945166],\n",
       "       [0.11252585, 0.88747415],\n",
       "       [0.91187771, 0.08812229],\n",
       "       [0.97545635, 0.02454365],\n",
       "       [0.92360695, 0.07639305],\n",
       "       [0.99140212, 0.00859788],\n",
       "       [0.98479021, 0.01520979],\n",
       "       [0.        , 1.        ],\n",
       "       [0.92606481, 0.07393519],\n",
       "       [0.99054834, 0.00945166],\n",
       "       [0.99814815, 0.00185185],\n",
       "       [0.        , 1.        ],\n",
       "       [0.        , 1.        ],\n",
       "       [0.93369149, 0.06630851],\n",
       "       [0.        , 1.        ],\n",
       "       [0.99392737, 0.00607263]])"
      ]
     },
     "execution_count": 36,
     "metadata": {},
     "output_type": "execute_result"
    }
   ],
   "source": [
    "y_pred_prob = rf_model.predict_proba(x_test)\n",
    "y_pred_prob"
   ]
  },
  {
   "cell_type": "code",
   "execution_count": 37,
   "id": "fc8ea4dd",
   "metadata": {},
   "outputs": [
    {
     "data": {
      "text/plain": [
       "array([0.09345654, 1.        , 0.05972902, 1.        , 0.20746693,\n",
       "       0.20661376, 0.09186924, 1.        , 0.0333196 , 1.        ,\n",
       "       1.        , 0.09195665, 0.0130994 , 1.        , 1.        ,\n",
       "       0.00185185, 1.        , 0.00952797, 0.79863909, 0.10151871,\n",
       "       1.        , 1.        , 1.        , 1.        , 1.        ,\n",
       "       0.27341076, 0.96666667, 0.00821387, 0.98125   , 1.        ,\n",
       "       1.        , 1.        , 0.01303225, 0.04764883, 0.76411487,\n",
       "       0.00945166, 0.88747415, 0.08812229, 0.02454365, 0.07639305,\n",
       "       0.00859788, 0.01520979, 1.        , 0.07393519, 0.00945166,\n",
       "       0.00185185, 1.        , 1.        , 0.06630851, 1.        ,\n",
       "       0.00607263])"
      ]
     },
     "execution_count": 37,
     "metadata": {},
     "output_type": "execute_result"
    }
   ],
   "source": [
    "y_pred_prob = rf_model.predict_proba(x_test)\n",
    "y_pred_prob[:,1]"
   ]
  },
  {
   "cell_type": "code",
   "execution_count": 40,
   "id": "ac8accb5",
   "metadata": {},
   "outputs": [],
   "source": [
    "fpr, tpr, thresh=roc_curve(y_test,y_pred_prob[:,1])"
   ]
  },
  {
   "cell_type": "code",
   "execution_count": 41,
   "id": "fa1041ab",
   "metadata": {},
   "outputs": [
    {
     "data": {
      "text/plain": [
       "array([0.  , 0.  , 0.  , 0.72, 0.8 , 0.92, 1.  ])"
      ]
     },
     "execution_count": 41,
     "metadata": {},
     "output_type": "execute_result"
    }
   ],
   "source": [
    "fpr"
   ]
  },
  {
   "cell_type": "code",
   "execution_count": 42,
   "id": "25bb7c8d",
   "metadata": {},
   "outputs": [
    {
     "data": {
      "text/plain": [
       "array([0.        , 0.76923077, 1.        , 1.        , 1.        ,\n",
       "       1.        , 1.        ])"
      ]
     },
     "execution_count": 42,
     "metadata": {},
     "output_type": "execute_result"
    }
   ],
   "source": [
    "tpr"
   ]
  },
  {
   "cell_type": "code",
   "execution_count": 43,
   "id": "3b1296db",
   "metadata": {},
   "outputs": [
    {
     "data": {
      "text/plain": [
       "array([2.00000000e+00, 1.00000000e+00, 2.73410756e-01, 9.52797203e-03,\n",
       "       9.45165945e-03, 6.07263107e-03, 1.85185185e-03])"
      ]
     },
     "execution_count": 43,
     "metadata": {},
     "output_type": "execute_result"
    }
   ],
   "source": [
    "thresh"
   ]
  },
  {
   "cell_type": "code",
   "execution_count": 44,
   "id": "6f955fea",
   "metadata": {},
   "outputs": [
    {
     "data": {
      "text/plain": [
       "[<matplotlib.lines.Line2D at 0x297c7cdd190>]"
      ]
     },
     "execution_count": 44,
     "metadata": {},
     "output_type": "execute_result"
    },
    {
     "data": {
      "image/png": "[encoded data removed]",
      "text/plain": [
       "<Figure size 432x288 with 1 Axes>"
      ]
     },
     "metadata": {
      "needs_background": "light"
     },
     "output_type": "display_data"
    }
   ],
   "source": [
    "plt.plot(fpr,tpr)"
   ]
  },
  {
   "cell_type": "code",
   "execution_count": 46,
   "id": "a1058363",
   "metadata": {},
   "outputs": [
    {
     "data": {
      "text/plain": [
       "Text(0.5, 1.0, 'ROC Curve')"
      ]
     },
     "execution_count": 46,
     "metadata": {},
     "output_type": "execute_result"
    },
    {
     "data": {
      "image/png": "[encoded data removed]",
      "text/plain": [
       "<Figure size 432x288 with 1 Axes>"
      ]
     },
     "metadata": {
      "needs_background": "light"
     },
     "output_type": "display_data"
    }
   ],
   "source": [
    "plt.plot(fpr,tpr,color='darkorange')\n",
    "plt.xlabel(\"FPR 'False Positive Rate' ' 1 - speficity'\")\n",
    "plt.ylabel(\"TPR 'Sensitivity' 'Recall'\")\n",
    "plt.title(\"ROC Curve\")"
   ]
  },
  {
   "cell_type": "code",
   "execution_count": null,
   "id": "3ffde2db",
   "metadata": {},
   "outputs": [],
   "source": []
  }
 ],
 "metadata": {
  "kernelspec": {
   "display_name": "Python 3 (ipykernel)",
   "language": "python",
   "name": "python3"
  },
  "language_info": {
   "codemirror_mode": {
    "name": "ipython",
    "version": 3
   },
   "file_extension": ".py",
   "mimetype": "text/x-python",
   "name": "python",
   "nbconvert_exporter": "python",
   "pygments_lexer": "ipython3",
   "version": "3.9.7"
  }
 },
 "nbformat": 4,
 "nbformat_minor": 5
}
